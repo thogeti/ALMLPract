{
  "nbformat": 4,
  "nbformat_minor": 0,
  "metadata": {
    "colab": {
      "name": "GRADIO: Inception Net",
      "provenance": [],
      "collapsed_sections": [],
      "include_colab_link": true
    },
    "kernelspec": {
      "name": "python3",
      "display_name": "Python 3"
    }
  },
  "cells": [
    {
      "cell_type": "markdown",
      "metadata": {
        "id": "view-in-github",
        "colab_type": "text"
      },
      "source": [
        "<a href=\"https://colab.research.google.com/github/thogeti/ALMLPract/blob/master/GRadio/GRADIO_Inception_Net.ipynb\" target=\"_parent\"><img src=\"https://colab.research.google.com/assets/colab-badge.svg\" alt=\"Open In Colab\"/></a>"
      ]
    },
    {
      "cell_type": "markdown",
      "metadata": {
        "id": "DdY5HBY2bebJ"
      },
      "source": [
        "## Using Gradio to wrap an image to label interface around Inception Net.\n",
        "Check out the library on [github](https://github.com/gradio-app/gradio-UI) and see the [getting started](https://gradio.app/getting_started.html) page for more demos."
      ]
    },
    {
      "cell_type": "code",
      "metadata": {
        "id": "4vjrohKFKt-0",
        "colab": {
          "base_uri": "https://localhost:8080/"
        },
        "outputId": "7af3279d-9e77-4224-a629-2fbd3cc4529a"
      },
      "source": [
        "!pip install --quiet gradio"
      ],
      "execution_count": 1,
      "outputs": [
        {
          "output_type": "stream",
          "text": [
            "\u001b[K     |████████████████████████████████| 1.1MB 7.4MB/s \n",
            "\u001b[K     |████████████████████████████████| 215kB 14.6MB/s \n",
            "\u001b[K     |████████████████████████████████| 962kB 27.9MB/s \n",
            "\u001b[K     |████████████████████████████████| 3.2MB 54.5MB/s \n",
            "\u001b[K     |████████████████████████████████| 71kB 6.5MB/s \n",
            "\u001b[?25h  Building wheel for Flask-BasicAuth (setup.py) ... \u001b[?25l\u001b[?25hdone\n",
            "  Building wheel for flask-cachebuster (setup.py) ... \u001b[?25l\u001b[?25hdone\n",
            "  Building wheel for ffmpy (setup.py) ... \u001b[?25l\u001b[?25hdone\n"
          ],
          "name": "stdout"
        }
      ]
    },
    {
      "cell_type": "code",
      "metadata": {
        "id": "SfczgBYqKc3U"
      },
      "source": [
        "import gradio as gr\n",
        "import tensorflow as tf\n",
        "import numpy as np\n",
        "import requests"
      ],
      "execution_count": 2,
      "outputs": []
    },
    {
      "cell_type": "markdown",
      "metadata": {
        "id": "GEQhxWleVuIX"
      },
      "source": [
        "**Load the model**"
      ]
    },
    {
      "cell_type": "code",
      "metadata": {
        "id": "Uov_ATfyKsUx",
        "colab": {
          "base_uri": "https://localhost:8080/"
        },
        "outputId": "b4addb1a-41eb-4b69-fd49-a82be104827d"
      },
      "source": [
        "inception_net = tf.keras.applications.InceptionV3()"
      ],
      "execution_count": 3,
      "outputs": [
        {
          "output_type": "stream",
          "text": [
            "Downloading data from https://storage.googleapis.com/tensorflow/keras-applications/inception_v3/inception_v3_weights_tf_dim_ordering_tf_kernels.h5\n",
            "96116736/96112376 [==============================] - 1s 0us/step\n"
          ],
          "name": "stdout"
        }
      ]
    },
    {
      "cell_type": "markdown",
      "metadata": {
        "id": "rFMt7HncV0cb"
      },
      "source": [
        "**Get the human-readable labels**"
      ]
    },
    {
      "cell_type": "code",
      "metadata": {
        "id": "sbUTlZpNN9wV"
      },
      "source": [
        "response = requests.get(\"https://git.io/JJkYN\")\n",
        "labels = response.text.split(\"\\n\")"
      ],
      "execution_count": 4,
      "outputs": []
    },
    {
      "cell_type": "markdown",
      "metadata": {
        "id": "iSEA0awVV5pK"
      },
      "source": [
        "**Define prediction notebook**"
      ]
    },
    {
      "cell_type": "code",
      "metadata": {
        "id": "RQDmVdTUK7M7"
      },
      "source": [
        "def classify_image(inp):\n",
        "    inp = inp.reshape((-1, 299, 299, 3))\n",
        "    inp = tf.keras.applications.inception_v3.preprocess_input(inp)\n",
        "    prediction = inception_net.predict(inp).flatten()\n",
        "    return {labels[i]: float(prediction[i]) for i in range(1000)}"
      ],
      "execution_count": 5,
      "outputs": []
    },
    {
      "cell_type": "markdown",
      "metadata": {
        "id": "9YnST63vV9MD"
      },
      "source": [
        "**Build a shareable UI in 3 lines of code!**"
      ]
    },
    {
      "cell_type": "code",
      "metadata": {
        "id": "u3tpADRuMF1d",
        "colab": {
          "base_uri": "https://localhost:8080/",
          "height": 606
        },
        "outputId": "f917f49b-7bb8-4b78-d74f-3a32b93ab6c5"
      },
      "source": [
        "image = gr.inputs.Image(shape=(299, 299))\n",
        "label = gr.outputs.Label(num_top_classes=3)\n",
        "\n",
        "gr.Interface(\n",
        "    classify_image, \n",
        "    image, \n",
        "    label,\n",
        "    capture_session=True).launch();"
      ],
      "execution_count": 6,
      "outputs": [
        {
          "output_type": "stream",
          "text": [
            "Colab notebook detected. To show errors in colab notebook, set `debug=True` in `launch()`\n",
            "This share link will expire in 24 hours. If you need a permanent link, visit: https://gradio.app/introducing-hosted (NEW!)\n",
            "Running on External URL: https://42946.gradio.app\n",
            "Interface loading below...\n"
          ],
          "name": "stdout"
        },
        {
          "output_type": "display_data",
          "data": {
            "text/html": [
              "\n",
              "        <iframe\n",
              "            width=\"1000\"\n",
              "            height=\"500\"\n",
              "            src=\"https://42946.gradio.app\"\n",
              "            frameborder=\"0\"\n",
              "            allowfullscreen\n",
              "        ></iframe>\n",
              "        "
            ],
            "text/plain": [
              "<IPython.lib.display.IFrame at 0x7f113422e550>"
            ]
          },
          "metadata": {
            "tags": []
          }
        },
        {
          "output_type": "stream",
          "text": [
            "Tip: Add interpretation to your model by simply adding `interpretation=\"default\"` to `Interface()`\n"
          ],
          "name": "stdout"
        }
      ]
    },
    {
      "cell_type": "markdown",
      "metadata": {
        "id": "LFB9u26krGtH"
      },
      "source": [
        "**Add Interpretation to your interface**\n"
      ]
    },
    {
      "cell_type": "code",
      "metadata": {
        "id": "qTfXGcIkq6vx",
        "colab": {
          "base_uri": "https://localhost:8080/",
          "height": 589
        },
        "outputId": "ee7d2f31-ac92-460a-e14e-7ef3bbd8f4ad"
      },
      "source": [
        "image = gr.inputs.Image(shape=(299, 299))\n",
        "label = gr.outputs.Label(num_top_classes=3)\n",
        "\n",
        "gr.Interface(\n",
        "    classify_image, \n",
        "    image, \n",
        "    label,\n",
        "    capture_session=True, interpretation=\"default\").launch();"
      ],
      "execution_count": 7,
      "outputs": [
        {
          "output_type": "stream",
          "text": [
            "Colab notebook detected. To show errors in colab notebook, set `debug=True` in `launch()`\n",
            "This share link will expire in 24 hours. If you need a permanent link, visit: https://gradio.app/introducing-hosted (NEW!)\n",
            "Running on External URL: https://21214.gradio.app\n",
            "Interface loading below...\n"
          ],
          "name": "stdout"
        },
        {
          "output_type": "display_data",
          "data": {
            "text/html": [
              "\n",
              "        <iframe\n",
              "            width=\"1000\"\n",
              "            height=\"500\"\n",
              "            src=\"https://21214.gradio.app\"\n",
              "            frameborder=\"0\"\n",
              "            allowfullscreen\n",
              "        ></iframe>\n",
              "        "
            ],
            "text/plain": [
              "<IPython.lib.display.IFrame at 0x7f11342e1f50>"
            ]
          },
          "metadata": {
            "tags": []
          }
        }
      ]
    },
    {
      "cell_type": "markdown",
      "metadata": {
        "id": "VsYULBhZhc0M"
      },
      "source": [
        "#### The model is now live on the gradio.app link shown above. Go ahead and open that in a new tab!"
      ]
    },
    {
      "cell_type": "markdown",
      "metadata": {
        "id": "xn27MzU0hdS2"
      },
      "source": [
        "Please contact us [here](mailto:team@gradio.app) if you have any questions, or [open an issue](https://github.com/gradio-app/gradio-UI/issues/new/choose) at our github repo.\n",
        "\n"
      ]
    },
    {
      "cell_type": "code",
      "metadata": {
        "id": "tX2MUpwx_4Wu"
      },
      "source": [
        "!pip install -q gradio "
      ],
      "execution_count": 16,
      "outputs": []
    },
    {
      "cell_type": "code",
      "metadata": {
        "id": "Nqn7ja7C_8OM"
      },
      "source": [
        "import gradio as gr\n",
        "import tensorflow as tf\n",
        "import numpy as np\n",
        "from PIL import Image\n",
        "import requests\n",
        "from urllib.request import urlretrieve"
      ],
      "execution_count": 18,
      "outputs": []
    },
    {
      "cell_type": "code",
      "metadata": {
        "id": "sWy19H0DAAZP"
      },
      "source": [
        "# Download human-readable labels for ImageNet.\n",
        "response = requests.get(\"https://git.io/JJkYN\")\n",
        "labels = response.text.split(\"\\n\")\n",
        "\n",
        "# Download sample images\n",
        "urlretrieve(\"https://www.sciencemag.org/sites/default/files/styles/article_main_large/public/cc_BE6RJF_16x9.jpg?itok=nP17Fm9H\",\"monkey.jpg\")\n",
        "urlretrieve(\"https://www.discoverboating.com/sites/default/files/inline-images/buying-a-sailboat-checklist.jpg\",\"sailboat.jpg\")\n",
        "urlretrieve(\"https://external-preview.redd.it/lG5mI_9Co1obw2TiY0e-oChlXfEQY3tsRaIjpYjERqs.jpg?auto=webp&s=ea81982f44b83efbb803c8cff8953ee547624f70\",\"bicycle.jpg\");"
      ],
      "execution_count": 19,
      "outputs": []
    },
    {
      "cell_type": "code",
      "metadata": {
        "id": "aIwvuf7VAAOr",
        "outputId": "9925408a-05b9-442c-ca61-91e8af52b343",
        "colab": {
          "base_uri": "https://localhost:8080/"
        }
      },
      "source": [
        "mobile_net = tf.keras.applications.MobileNetV2()\n",
        "inception_net = tf.keras.applications.InceptionV3()\n",
        "\n",
        "\n",
        "def classify_image_with_mobile_net(im):\n",
        "  im = Image.fromarray(im.astype('uint8'), 'RGB')\n",
        "  im = im.resize((224, 224))\n",
        "  arr = np.array(im).reshape((-1, 224, 224, 3))\t\n",
        "  arr = tf.keras.applications.mobilenet.preprocess_input(arr)\n",
        "  prediction = mobile_net.predict(arr).flatten()\n",
        "  return {labels[i]: float(prediction[i]) for i in range(1000)}\n",
        "\n",
        "\n",
        "def classify_image_with_inception_net(im):\n",
        "\tim = Image.fromarray(im.astype('uint8'), 'RGB')\n",
        "\tim = im.resize((299, 299))\n",
        "\tarr = np.array(im).reshape((-1, 299, 299, 3))\n",
        "\tarr = tf.keras.applications.inception_v3.preprocess_input(arr)\n",
        "\tprediction = inception_net.predict(arr).flatten()\n",
        "\treturn {labels[i]: float(prediction[i]) for i in range(1000)}"
      ],
      "execution_count": 20,
      "outputs": [
        {
          "output_type": "stream",
          "text": [
            "Downloading data from https://storage.googleapis.com/tensorflow/keras-applications/mobilenet_v2/mobilenet_v2_weights_tf_dim_ordering_tf_kernels_1.0_224.h5\n",
            "14540800/14536120 [==============================] - 0s 0us/step\n"
          ],
          "name": "stdout"
        }
      ]
    },
    {
      "cell_type": "code",
      "metadata": {
        "id": "ybScH_Yr__9j",
        "outputId": "d3e69d33-4eed-4e46-ec03-2136342a83c6",
        "colab": {
          "base_uri": "https://localhost:8080/",
          "height": 589
        }
      },
      "source": [
        "imagein = gr.inputs.Image()\n",
        "label = gr.outputs.Label(num_top_classes=3)\n",
        "\n",
        "sample_images = [\n",
        "                 [\"monkey.jpg\"],\n",
        "                 [\"sailboat.jpg\"],\n",
        "                 [\"bicycle.jpg\"]\n",
        "]\n",
        "\n",
        "gr.Interface(\n",
        "    [classify_image_with_mobile_net, classify_image_with_inception_net], \n",
        "    imagein, \n",
        "    label,\n",
        "    title=\"MobileNet vs. InceptionNet\",\n",
        "    description=\"Let's compare 2 state-of-the-art machine learning models that classify images into one of 1,000 categories: MobileNet (top), a lightweight model that has an accuracy of 0.704, vs. InceptionNet (bottom), a much heavier model that has an accuracy of 0.779.\",\n",
        "    examples=sample_images\n",
        ").launch();"
      ],
      "execution_count": 21,
      "outputs": [
        {
          "output_type": "stream",
          "text": [
            "Colab notebook detected. To show errors in colab notebook, set `debug=True` in `launch()`\n",
            "This share link will expire in 24 hours. If you need a permanent link, visit: https://gradio.app/introducing-hosted (NEW!)\n",
            "Running on External URL: https://54229.gradio.app\n",
            "Interface loading below...\n"
          ],
          "name": "stdout"
        },
        {
          "output_type": "display_data",
          "data": {
            "text/html": [
              "\n",
              "        <iframe\n",
              "            width=\"1000\"\n",
              "            height=\"500\"\n",
              "            src=\"https://54229.gradio.app\"\n",
              "            frameborder=\"0\"\n",
              "            allowfullscreen\n",
              "        ></iframe>\n",
              "        "
            ],
            "text/plain": [
              "<IPython.lib.display.IFrame at 0x7f112f744b10>"
            ]
          },
          "metadata": {
            "tags": []
          }
        }
      ]
    }
  ]
}