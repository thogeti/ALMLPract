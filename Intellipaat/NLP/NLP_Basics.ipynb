{
  "nbformat": 4,
  "nbformat_minor": 0,
  "metadata": {
    "colab": {
      "name": "NLP Basics.ipynb",
      "provenance": [],
      "include_colab_link": true
    },
    "kernelspec": {
      "name": "python3",
      "display_name": "Python 3"
    },
    "language_info": {
      "name": "python"
    }
  },
  "cells": [
    {
      "cell_type": "markdown",
      "metadata": {
        "id": "view-in-github",
        "colab_type": "text"
      },
      "source": [
        "<a href=\"https://colab.research.google.com/github/thogeti/ALMLPract/blob/master/Intellipaat/NLP/NLP_Basics.ipynb\" target=\"_parent\"><img src=\"https://colab.research.google.com/assets/colab-badge.svg\" alt=\"Open In Colab\"/></a>"
      ]
    },
    {
      "cell_type": "code",
      "source": [
        "!pip install nltk"
      ],
      "metadata": {
        "id": "9LK2WOpCy6Cl",
        "outputId": "1c434383-22ac-4c6e-bd8c-4d1c307670e4",
        "colab": {
          "base_uri": "https://localhost:8080/"
        }
      },
      "execution_count": 7,
      "outputs": [
        {
          "output_type": "stream",
          "name": "stdout",
          "text": [
            "Requirement already satisfied: nltk in /usr/local/lib/python3.7/dist-packages (3.2.5)\n",
            "Requirement already satisfied: six in /usr/local/lib/python3.7/dist-packages (from nltk) (1.15.0)\n"
          ]
        }
      ]
    },
    {
      "cell_type": "code",
      "execution_count": 13,
      "metadata": {
        "id": "qL2CKyOwvhx3",
        "outputId": "b449ad05-af46-490d-ada2-0fd6c4cd6d9e",
        "colab": {
          "base_uri": "https://localhost:8080/"
        }
      },
      "outputs": [
        {
          "output_type": "stream",
          "name": "stdout",
          "text": [
            "[nltk_data] Downloading package punkt to /root/nltk_data...\n",
            "[nltk_data]   Unzipping tokenizers/punkt.zip.\n"
          ]
        },
        {
          "output_type": "execute_result",
          "data": {
            "text/plain": [
              "True"
            ]
          },
          "metadata": {},
          "execution_count": 13
        }
      ],
      "source": [
        "import nltk\n",
        "import nltk.corpus\n",
        "nltk.download('punkt')"
      ]
    },
    {
      "cell_type": "code",
      "source": [
        ""
      ],
      "metadata": {
        "id": "CFJR_9bLy4Hy"
      },
      "execution_count": null,
      "outputs": []
    },
    {
      "cell_type": "code",
      "source": [
        "from nltk.tokenize import word_tokenize"
      ],
      "metadata": {
        "id": "21_VFxQIxfX0"
      },
      "execution_count": 14,
      "outputs": []
    },
    {
      "cell_type": "code",
      "source": [
        "#String \n",
        "elon = \"Musk was born to a Canadian mother and South African father, and raised in Pretoria, South Africa. He briefly attended the University of Pretoria before moving to Canada at age 17 to avoid conscription. He was enrolled at Queen's University and transferred to the University of Pennsylvania two years later, where he received a bachelor's degree in economics and physics. He moved to California in 1995 to attend Stanford University but decided instead to pursue a business career, co-founding the web software company Zip2 with his brother Kimbal. The startup was acquired by Compaq for $307 million in 1999. The same year, Musk co-founded online bank X.com, which merged with Confinity in 2000 to form PayPal. The company was bought by eBay in 2002 for $1.5 billion.\""
      ],
      "metadata": {
        "id": "qD1EHwVqxiuD"
      },
      "execution_count": 15,
      "outputs": []
    },
    {
      "cell_type": "code",
      "source": [
        "elon_token=word_tokenize(elon)\n",
        "elon_token"
      ],
      "metadata": {
        "id": "fHniUzoRxjDt",
        "outputId": "d7e3ee99-cc18-4496-db2f-5d2e1a4bed16",
        "colab": {
          "base_uri": "https://localhost:8080/"
        }
      },
      "execution_count": 16,
      "outputs": [
        {
          "output_type": "execute_result",
          "data": {
            "text/plain": [
              "['Musk',\n",
              " 'was',\n",
              " 'born',\n",
              " 'to',\n",
              " 'a',\n",
              " 'Canadian',\n",
              " 'mother',\n",
              " 'and',\n",
              " 'South',\n",
              " 'African',\n",
              " 'father',\n",
              " ',',\n",
              " 'and',\n",
              " 'raised',\n",
              " 'in',\n",
              " 'Pretoria',\n",
              " ',',\n",
              " 'South',\n",
              " 'Africa',\n",
              " '.',\n",
              " 'He',\n",
              " 'briefly',\n",
              " 'attended',\n",
              " 'the',\n",
              " 'University',\n",
              " 'of',\n",
              " 'Pretoria',\n",
              " 'before',\n",
              " 'moving',\n",
              " 'to',\n",
              " 'Canada',\n",
              " 'at',\n",
              " 'age',\n",
              " '17',\n",
              " 'to',\n",
              " 'avoid',\n",
              " 'conscription',\n",
              " '.',\n",
              " 'He',\n",
              " 'was',\n",
              " 'enrolled',\n",
              " 'at',\n",
              " 'Queen',\n",
              " \"'s\",\n",
              " 'University',\n",
              " 'and',\n",
              " 'transferred',\n",
              " 'to',\n",
              " 'the',\n",
              " 'University',\n",
              " 'of',\n",
              " 'Pennsylvania',\n",
              " 'two',\n",
              " 'years',\n",
              " 'later',\n",
              " ',',\n",
              " 'where',\n",
              " 'he',\n",
              " 'received',\n",
              " 'a',\n",
              " 'bachelor',\n",
              " \"'s\",\n",
              " 'degree',\n",
              " 'in',\n",
              " 'economics',\n",
              " 'and',\n",
              " 'physics',\n",
              " '.',\n",
              " 'He',\n",
              " 'moved',\n",
              " 'to',\n",
              " 'California',\n",
              " 'in',\n",
              " '1995',\n",
              " 'to',\n",
              " 'attend',\n",
              " 'Stanford',\n",
              " 'University',\n",
              " 'but',\n",
              " 'decided',\n",
              " 'instead',\n",
              " 'to',\n",
              " 'pursue',\n",
              " 'a',\n",
              " 'business',\n",
              " 'career',\n",
              " ',',\n",
              " 'co-founding',\n",
              " 'the',\n",
              " 'web',\n",
              " 'software',\n",
              " 'company',\n",
              " 'Zip2',\n",
              " 'with',\n",
              " 'his',\n",
              " 'brother',\n",
              " 'Kimbal',\n",
              " '.',\n",
              " 'The',\n",
              " 'startup',\n",
              " 'was',\n",
              " 'acquired',\n",
              " 'by',\n",
              " 'Compaq',\n",
              " 'for',\n",
              " '$',\n",
              " '307',\n",
              " 'million',\n",
              " 'in',\n",
              " '1999',\n",
              " '.',\n",
              " 'The',\n",
              " 'same',\n",
              " 'year',\n",
              " ',',\n",
              " 'Musk',\n",
              " 'co-founded',\n",
              " 'online',\n",
              " 'bank',\n",
              " 'X.com',\n",
              " ',',\n",
              " 'which',\n",
              " 'merged',\n",
              " 'with',\n",
              " 'Confinity',\n",
              " 'in',\n",
              " '2000',\n",
              " 'to',\n",
              " 'form',\n",
              " 'PayPal',\n",
              " '.',\n",
              " 'The',\n",
              " 'company',\n",
              " 'was',\n",
              " 'bought',\n",
              " 'by',\n",
              " 'eBay',\n",
              " 'in',\n",
              " '2002',\n",
              " 'for',\n",
              " '$',\n",
              " '1.5',\n",
              " 'billion',\n",
              " '.']"
            ]
          },
          "metadata": {},
          "execution_count": 16
        }
      ]
    },
    {
      "cell_type": "code",
      "source": [
        "# frequency\n",
        "from nltk.probability import FreqDist\n",
        "fdist = FreqDist()"
      ],
      "metadata": {
        "id": "UzCXtpCMxjSf"
      },
      "execution_count": 17,
      "outputs": []
    },
    {
      "cell_type": "code",
      "source": [
        "for i in elon_token:\n",
        "  fdist[i]=fdist[i]+1\n",
        "fdist"
      ],
      "metadata": {
        "id": "k9szdGRMzvBO",
        "outputId": "55ec9f87-6f70-4bf4-a7d3-ffdc59c14602",
        "colab": {
          "base_uri": "https://localhost:8080/"
        }
      },
      "execution_count": 18,
      "outputs": [
        {
          "output_type": "execute_result",
          "data": {
            "text/plain": [
              "FreqDist({'$': 2,\n",
              "          \"'s\": 2,\n",
              "          ',': 6,\n",
              "          '.': 7,\n",
              "          '1.5': 1,\n",
              "          '17': 1,\n",
              "          '1995': 1,\n",
              "          '1999': 1,\n",
              "          '2000': 1,\n",
              "          '2002': 1,\n",
              "          '307': 1,\n",
              "          'Africa': 1,\n",
              "          'African': 1,\n",
              "          'California': 1,\n",
              "          'Canada': 1,\n",
              "          'Canadian': 1,\n",
              "          'Compaq': 1,\n",
              "          'Confinity': 1,\n",
              "          'He': 3,\n",
              "          'Kimbal': 1,\n",
              "          'Musk': 2,\n",
              "          'PayPal': 1,\n",
              "          'Pennsylvania': 1,\n",
              "          'Pretoria': 2,\n",
              "          'Queen': 1,\n",
              "          'South': 2,\n",
              "          'Stanford': 1,\n",
              "          'The': 3,\n",
              "          'University': 4,\n",
              "          'X.com': 1,\n",
              "          'Zip2': 1,\n",
              "          'a': 3,\n",
              "          'acquired': 1,\n",
              "          'age': 1,\n",
              "          'and': 4,\n",
              "          'at': 2,\n",
              "          'attend': 1,\n",
              "          'attended': 1,\n",
              "          'avoid': 1,\n",
              "          'bachelor': 1,\n",
              "          'bank': 1,\n",
              "          'before': 1,\n",
              "          'billion': 1,\n",
              "          'born': 1,\n",
              "          'bought': 1,\n",
              "          'briefly': 1,\n",
              "          'brother': 1,\n",
              "          'business': 1,\n",
              "          'but': 1,\n",
              "          'by': 2,\n",
              "          'career': 1,\n",
              "          'co-founded': 1,\n",
              "          'co-founding': 1,\n",
              "          'company': 2,\n",
              "          'conscription': 1,\n",
              "          'decided': 1,\n",
              "          'degree': 1,\n",
              "          'eBay': 1,\n",
              "          'economics': 1,\n",
              "          'enrolled': 1,\n",
              "          'father': 1,\n",
              "          'for': 2,\n",
              "          'form': 1,\n",
              "          'he': 1,\n",
              "          'his': 1,\n",
              "          'in': 6,\n",
              "          'instead': 1,\n",
              "          'later': 1,\n",
              "          'merged': 1,\n",
              "          'million': 1,\n",
              "          'mother': 1,\n",
              "          'moved': 1,\n",
              "          'moving': 1,\n",
              "          'of': 2,\n",
              "          'online': 1,\n",
              "          'physics': 1,\n",
              "          'pursue': 1,\n",
              "          'raised': 1,\n",
              "          'received': 1,\n",
              "          'same': 1,\n",
              "          'software': 1,\n",
              "          'startup': 1,\n",
              "          'the': 3,\n",
              "          'to': 8,\n",
              "          'transferred': 1,\n",
              "          'two': 1,\n",
              "          'was': 4,\n",
              "          'web': 1,\n",
              "          'where': 1,\n",
              "          'which': 1,\n",
              "          'with': 2,\n",
              "          'year': 1,\n",
              "          'years': 1})"
            ]
          },
          "metadata": {},
          "execution_count": 18
        }
      ]
    },
    {
      "cell_type": "code",
      "source": [
        "# most common tokens\n",
        "top_4=fdist.most_common(4)\n",
        "top_4"
      ],
      "metadata": {
        "id": "T2H83JMazvS6",
        "outputId": "e5259bb0-2a09-4f54-c040-951533c839bc",
        "colab": {
          "base_uri": "https://localhost:8080/"
        }
      },
      "execution_count": 19,
      "outputs": [
        {
          "output_type": "execute_result",
          "data": {
            "text/plain": [
              "[('to', 8), ('.', 7), (',', 6), ('in', 6)]"
            ]
          },
          "metadata": {},
          "execution_count": 19
        }
      ]
    },
    {
      "cell_type": "code",
      "source": [
        ""
      ],
      "metadata": {
        "id": "_d2jxCcO0krx"
      },
      "execution_count": null,
      "outputs": []
    }
  ]
}