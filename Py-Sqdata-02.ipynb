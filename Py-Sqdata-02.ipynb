{
  "nbformat": 4,
  "nbformat_minor": 0,
  "metadata": {
    "colab": {
      "name": "Untitled8.ipynb",
      "provenance": [],
      "authorship_tag": "ABX9TyNLM9yQg8El+5YG5hBh1zsT",
      "include_colab_link": true
    },
    "kernelspec": {
      "name": "python3",
      "display_name": "Python 3"
    }
  },
  "cells": [
    {
      "cell_type": "markdown",
      "metadata": {
        "id": "view-in-github",
        "colab_type": "text"
      },
      "source": [
        "<a href=\"https://colab.research.google.com/github/thogeti/ALMLPract/blob/Python/Py-Sqdata-02.ipynb\" target=\"_parent\"><img src=\"https://colab.research.google.com/assets/colab-badge.svg\" alt=\"Open In Colab\"/></a>"
      ]
    },
    {
      "cell_type": "code",
      "metadata": {
        "id": "dbVsP6-84NzD"
      },
      "source": [
        "\r\n"
      ],
      "execution_count": null,
      "outputs": []
    },
    {
      "cell_type": "markdown",
      "metadata": {
        "id": "xru90_TK5ZuJ"
      },
      "source": [
        "## Sequence datatype\r\n"
      ]
    },
    {
      "cell_type": "code",
      "metadata": {
        "id": "RQHB0D1b5c59"
      },
      "source": [
        ""
      ],
      "execution_count": null,
      "outputs": []
    },
    {
      "cell_type": "markdown",
      "metadata": {
        "id": "ZZY_HMU96dt1"
      },
      "source": [
        "**string,tuples,lists,array,Dic,Sets,Ranges**\r\n"
      ]
    },
    {
      "cell_type": "code",
      "metadata": {
        "id": "QB2daebs6r4_",
        "colab": {
          "base_uri": "https://localhost:8080/"
        },
        "outputId": "86c20c84-a687-4e17-a06e-89982fbb1341"
      },
      "source": [
        " Strs=\"Praveen\"\r\n",
        "print(Strs)\r\n",
        "lists=[1,2,3,3,4,'sami',7]\r\n",
        "print(lists)"
      ],
      "execution_count": null,
      "outputs": [
        {
          "output_type": "stream",
          "text": [
            "Praveen\n",
            "[1, 2, 3, 3, 4, 'sami', 7]\n"
          ],
          "name": "stdout"
        }
      ]
    },
    {
      "cell_type": "code",
      "metadata": {
        "id": "wESHI_Sv7Qot",
        "colab": {
          "base_uri": "https://localhost:8080/"
        },
        "outputId": "26629754-a572-4ce5-8c31-7f59c31b1f8a"
      },
      "source": [
        "from array import *\r\n",
        "aee=array('i',[1,2,5])\r\n",
        "print(aee)"
      ],
      "execution_count": 9,
      "outputs": [
        {
          "output_type": "stream",
          "text": [
            "array('i', [1, 2, 5])\n"
          ],
          "name": "stdout"
        }
      ]
    },
    {
      "cell_type": "code",
      "metadata": {
        "colab": {
          "base_uri": "https://localhost:8080/"
        },
        "id": "kcqyTrtH8rOG",
        "outputId": "aab7002f-80ea-4823-cac9-05fa02a03384"
      },
      "source": [
        "tup=(1,2,3,'sam')\r\n",
        "print(tup)"
      ],
      "execution_count": 11,
      "outputs": [
        {
          "output_type": "stream",
          "text": [
            "(1, 2, 3, 'sam')\n"
          ],
          "name": "stdout"
        }
      ]
    },
    {
      "cell_type": "code",
      "metadata": {
        "colab": {
          "base_uri": "https://localhost:8080/"
        },
        "id": "c6JRm9RG-V43",
        "outputId": "b570971e-8494-4381-a887-6df54d6f2277"
      },
      "source": [
        "dictype = dict([(1,'first'),(2,'sec'),(3,'three'),('four',4)])\r\n",
        "print(dictype['four'])"
      ],
      "execution_count": 17,
      "outputs": [
        {
          "output_type": "stream",
          "text": [
            "4\n"
          ],
          "name": "stdout"
        }
      ]
    },
    {
      "cell_type": "code",
      "metadata": {
        "colab": {
          "base_uri": "https://localhost:8080/"
        },
        "id": "WDvSwm4Q_KBV",
        "outputId": "1f068931-2862-4b05-e302-c7368bddbf0b"
      },
      "source": [
        "range1 = range(1,12,2)\r\n",
        "print(range1)\r\n",
        "for x in range1: print(x)"
      ],
      "execution_count": 20,
      "outputs": [
        {
          "output_type": "stream",
          "text": [
            "range(1, 12, 2)\n",
            "1\n",
            "3\n",
            "5\n",
            "7\n",
            "9\n",
            "11\n"
          ],
          "name": "stdout"
        }
      ]
    }
  ]
}