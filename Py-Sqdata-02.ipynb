{
  "nbformat": 4,
  "nbformat_minor": 0,
  "metadata": {
    "colab": {
      "name": "Untitled8.ipynb",
      "provenance": [],
      "authorship_tag": "ABX9TyOz8x+UTFg4qArWcqJQQ7O1",
      "include_colab_link": true
    },
    "kernelspec": {
      "name": "python3",
      "display_name": "Python 3"
    }
  },
  "cells": [
    {
      "cell_type": "markdown",
      "metadata": {
        "id": "view-in-github",
        "colab_type": "text"
      },
      "source": [
        "<a href=\"https://colab.research.google.com/github/thogeti/ALMLPract/blob/Python/Py-Sqdata-02.ipynb\" target=\"_parent\"><img src=\"https://colab.research.google.com/assets/colab-badge.svg\" alt=\"Open In Colab\"/></a>"
      ]
    },
    {
      "cell_type": "code",
      "metadata": {
        "id": "dbVsP6-84NzD"
      },
      "source": [
        "\r\n"
      ],
      "execution_count": null,
      "outputs": []
    },
    {
      "cell_type": "markdown",
      "metadata": {
        "id": "xru90_TK5ZuJ"
      },
      "source": [
        "## Sequence datatype\r\n"
      ]
    },
    {
      "cell_type": "code",
      "metadata": {
        "id": "RQHB0D1b5c59"
      },
      "source": [
        ""
      ],
      "execution_count": null,
      "outputs": []
    },
    {
      "cell_type": "markdown",
      "metadata": {
        "id": "ZZY_HMU96dt1"
      },
      "source": [
        "**string,tuples,lists,array,Dic,Sets,Ranges**\r\n"
      ]
    },
    {
      "cell_type": "code",
      "metadata": {
        "id": "QB2daebs6r4_",
        "outputId": "86c20c84-a687-4e17-a06e-89982fbb1341",
        "colab": {
          "base_uri": "https://localhost:8080/"
        }
      },
      "source": [
        " Strs=\"Praveen\"\r\n",
        "print(Strs)\r\n",
        "lists=[1,2,3,3,4,'sami',7]\r\n",
        "print(lists)"
      ],
      "execution_count": 5,
      "outputs": [
        {
          "output_type": "stream",
          "text": [
            "Praveen\n",
            "[1, 2, 3, 3, 4, 'sami', 7]\n"
          ],
          "name": "stdout"
        }
      ]
    },
    {
      "cell_type": "code",
      "metadata": {
        "id": "wESHI_Sv7Qot"
      },
      "source": [
        ""
      ],
      "execution_count": null,
      "outputs": []
    }
  ]
}