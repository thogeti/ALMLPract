{
 "cells": [
  {
   "cell_type": "code",
   "execution_count": 1,
   "id": "20e0cec1",
   "metadata": {},
   "outputs": [
    {
     "name": "stdout",
     "output_type": "stream",
     "text": [
      "Requirement already satisfied: pywhatkit in c:\\praveen\\books\\aimldl\\projects\\endtoendmlproj\\bostonhousepricing\\venv\\lib\\site-packages (5.4)\n",
      "Requirement already satisfied: pyautogui in c:\\praveen\\books\\aimldl\\projects\\endtoendmlproj\\bostonhousepricing\\venv\\lib\\site-packages (from pywhatkit) (0.9.53)\n",
      "Requirement already satisfied: Flask in c:\\praveen\\books\\aimldl\\projects\\endtoendmlproj\\bostonhousepricing\\venv\\lib\\site-packages (from pywhatkit) (2.2.2)\n",
      "Requirement already satisfied: wikipedia in c:\\praveen\\books\\aimldl\\projects\\endtoendmlproj\\bostonhousepricing\\venv\\lib\\site-packages (from pywhatkit) (1.4.0)\n",
      "Requirement already satisfied: requests in c:\\praveen\\books\\aimldl\\projects\\endtoendmlproj\\bostonhousepricing\\venv\\lib\\site-packages (from pywhatkit) (2.28.1)\n",
      "Requirement already satisfied: Pillow in c:\\praveen\\books\\aimldl\\projects\\endtoendmlproj\\bostonhousepricing\\venv\\lib\\site-packages (from pywhatkit) (9.0.0)\n",
      "Requirement already satisfied: Werkzeug>=2.2.2 in c:\\praveen\\books\\aimldl\\projects\\endtoendmlproj\\bostonhousepricing\\venv\\lib\\site-packages (from Flask->pywhatkit) (2.2.2)\n",
      "Requirement already satisfied: Jinja2>=3.0 in c:\\praveen\\books\\aimldl\\projects\\endtoendmlproj\\bostonhousepricing\\venv\\lib\\site-packages (from Flask->pywhatkit) (3.1.2)\n",
      "Requirement already satisfied: click>=8.0 in c:\\praveen\\books\\aimldl\\projects\\endtoendmlproj\\bostonhousepricing\\venv\\lib\\site-packages (from Flask->pywhatkit) (8.1.3)\n",
      "Requirement already satisfied: itsdangerous>=2.0 in c:\\praveen\\books\\aimldl\\projects\\endtoendmlproj\\bostonhousepricing\\venv\\lib\\site-packages (from Flask->pywhatkit) (2.1.2)\n",
      "Requirement already satisfied: importlib-metadata>=3.6.0 in c:\\praveen\\books\\aimldl\\projects\\endtoendmlproj\\bostonhousepricing\\venv\\lib\\site-packages (from Flask->pywhatkit) (4.12.0)\n",
      "Requirement already satisfied: pyscreeze>=0.1.21 in c:\\praveen\\books\\aimldl\\projects\\endtoendmlproj\\bostonhousepricing\\venv\\lib\\site-packages (from pyautogui->pywhatkit) (0.1.28)\n",
      "Requirement already satisfied: mouseinfo in c:\\praveen\\books\\aimldl\\projects\\endtoendmlproj\\bostonhousepricing\\venv\\lib\\site-packages (from pyautogui->pywhatkit) (0.1.3)\n",
      "Requirement already satisfied: pymsgbox in c:\\praveen\\books\\aimldl\\projects\\endtoendmlproj\\bostonhousepricing\\venv\\lib\\site-packages (from pyautogui->pywhatkit) (1.0.9)\n",
      "Requirement already satisfied: PyTweening>=1.0.1 in c:\\praveen\\books\\aimldl\\projects\\endtoendmlproj\\bostonhousepricing\\venv\\lib\\site-packages (from pyautogui->pywhatkit) (1.0.4)\n",
      "Requirement already satisfied: pygetwindow>=0.0.5 in c:\\praveen\\books\\aimldl\\projects\\endtoendmlproj\\bostonhousepricing\\venv\\lib\\site-packages (from pyautogui->pywhatkit) (0.0.9)\n",
      "Requirement already satisfied: urllib3<1.27,>=1.21.1 in c:\\praveen\\books\\aimldl\\projects\\endtoendmlproj\\bostonhousepricing\\venv\\lib\\site-packages (from requests->pywhatkit) (1.26.13)\n",
      "Requirement already satisfied: certifi>=2017.4.17 in c:\\praveen\\books\\aimldl\\projects\\endtoendmlproj\\bostonhousepricing\\venv\\lib\\site-packages (from requests->pywhatkit) (2022.12.7)\n",
      "Requirement already satisfied: charset-normalizer<3,>=2 in c:\\praveen\\books\\aimldl\\projects\\endtoendmlproj\\bostonhousepricing\\venv\\lib\\site-packages (from requests->pywhatkit) (2.0.4)\n",
      "Requirement already satisfied: idna<4,>=2.5 in c:\\praveen\\books\\aimldl\\projects\\endtoendmlproj\\bostonhousepricing\\venv\\lib\\site-packages (from requests->pywhatkit) (3.4)\n",
      "Requirement already satisfied: beautifulsoup4 in c:\\praveen\\books\\aimldl\\projects\\endtoendmlproj\\bostonhousepricing\\venv\\lib\\site-packages (from wikipedia->pywhatkit) (4.11.1)\n",
      "Requirement already satisfied: colorama in c:\\praveen\\books\\aimldl\\projects\\endtoendmlproj\\bostonhousepricing\\venv\\lib\\site-packages (from click>=8.0->Flask->pywhatkit) (0.4.6)\n",
      "Requirement already satisfied: zipp>=0.5 in c:\\praveen\\books\\aimldl\\projects\\endtoendmlproj\\bostonhousepricing\\venv\\lib\\site-packages (from importlib-metadata>=3.6.0->Flask->pywhatkit) (3.11.0)\n",
      "Requirement already satisfied: typing-extensions>=3.6.4 in c:\\praveen\\books\\aimldl\\projects\\endtoendmlproj\\bostonhousepricing\\venv\\lib\\site-packages (from importlib-metadata>=3.6.0->Flask->pywhatkit) (4.4.0)\n",
      "Requirement already satisfied: MarkupSafe>=2.0 in c:\\praveen\\books\\aimldl\\projects\\endtoendmlproj\\bostonhousepricing\\venv\\lib\\site-packages (from Jinja2>=3.0->Flask->pywhatkit) (2.1.1)\n",
      "Requirement already satisfied: pyrect in c:\\praveen\\books\\aimldl\\projects\\endtoendmlproj\\bostonhousepricing\\venv\\lib\\site-packages (from pygetwindow>=0.0.5->pyautogui->pywhatkit) (0.2.0)\n",
      "Requirement already satisfied: soupsieve>1.2 in c:\\praveen\\books\\aimldl\\projects\\endtoendmlproj\\bostonhousepricing\\venv\\lib\\site-packages (from beautifulsoup4->wikipedia->pywhatkit) (2.3.2.post1)\n",
      "Requirement already satisfied: pyperclip in c:\\praveen\\books\\aimldl\\projects\\endtoendmlproj\\bostonhousepricing\\venv\\lib\\site-packages (from mouseinfo->pyautogui->pywhatkit) (1.8.2)\n"
     ]
    }
   ],
   "source": [
    "!pip install pywhatkit"
   ]
  },
  {
   "cell_type": "code",
   "execution_count": 2,
   "id": "46c70d82",
   "metadata": {},
   "outputs": [
    {
     "name": "stdout",
     "output_type": "stream",
     "text": [
      "Requirement already satisfied: Pillow==9.0.0 in c:\\praveen\\books\\aimldl\\projects\\endtoendmlproj\\bostonhousepricing\\venv\\lib\\site-packages (9.0.0)\n"
     ]
    }
   ],
   "source": [
    "!pip install Pillow==9.0.0"
   ]
  },
  {
   "cell_type": "code",
   "execution_count": 3,
   "id": "4483c0b1",
   "metadata": {
    "scrolled": true
   },
   "outputs": [
    {
     "name": "stdout",
     "output_type": "stream",
     "text": [
      "Requirement already satisfied: pywhatkit in c:\\praveen\\books\\aimldl\\projects\\endtoendmlproj\\bostonhousepricing\\venv\\lib\\site-packages (5.4)\n",
      "Requirement already satisfied: requests in c:\\praveen\\books\\aimldl\\projects\\endtoendmlproj\\bostonhousepricing\\venv\\lib\\site-packages (from pywhatkit) (2.28.1)\n",
      "Requirement already satisfied: wikipedia in c:\\praveen\\books\\aimldl\\projects\\endtoendmlproj\\bostonhousepricing\\venv\\lib\\site-packages (from pywhatkit) (1.4.0)\n",
      "Requirement already satisfied: Pillow in c:\\praveen\\books\\aimldl\\projects\\endtoendmlproj\\bostonhousepricing\\venv\\lib\\site-packages (from pywhatkit) (9.0.0)\n",
      "Requirement already satisfied: Flask in c:\\praveen\\books\\aimldl\\projects\\endtoendmlproj\\bostonhousepricing\\venv\\lib\\site-packages (from pywhatkit) (2.2.2)\n",
      "Requirement already satisfied: pyautogui in c:\\praveen\\books\\aimldl\\projects\\endtoendmlproj\\bostonhousepricing\\venv\\lib\\site-packages (from pywhatkit) (0.9.53)\n",
      "Requirement already satisfied: click>=8.0 in c:\\praveen\\books\\aimldl\\projects\\endtoendmlproj\\bostonhousepricing\\venv\\lib\\site-packages (from Flask->pywhatkit) (8.1.3)\n",
      "Requirement already satisfied: Jinja2>=3.0 in c:\\praveen\\books\\aimldl\\projects\\endtoendmlproj\\bostonhousepricing\\venv\\lib\\site-packages (from Flask->pywhatkit) (3.1.2)\n",
      "Requirement already satisfied: itsdangerous>=2.0 in c:\\praveen\\books\\aimldl\\projects\\endtoendmlproj\\bostonhousepricing\\venv\\lib\\site-packages (from Flask->pywhatkit) (2.1.2)\n",
      "Requirement already satisfied: importlib-metadata>=3.6.0 in c:\\praveen\\books\\aimldl\\projects\\endtoendmlproj\\bostonhousepricing\\venv\\lib\\site-packages (from Flask->pywhatkit) (4.12.0)\n",
      "Requirement already satisfied: Werkzeug>=2.2.2 in c:\\praveen\\books\\aimldl\\projects\\endtoendmlproj\\bostonhousepricing\\venv\\lib\\site-packages (from Flask->pywhatkit) (2.2.2)\n",
      "Requirement already satisfied: pyscreeze>=0.1.21 in c:\\praveen\\books\\aimldl\\projects\\endtoendmlproj\\bostonhousepricing\\venv\\lib\\site-packages (from pyautogui->pywhatkit) (0.1.28)\n",
      "Requirement already satisfied: pymsgbox in c:\\praveen\\books\\aimldl\\projects\\endtoendmlproj\\bostonhousepricing\\venv\\lib\\site-packages (from pyautogui->pywhatkit) (1.0.9)\n",
      "Requirement already satisfied: mouseinfo in c:\\praveen\\books\\aimldl\\projects\\endtoendmlproj\\bostonhousepricing\\venv\\lib\\site-packages (from pyautogui->pywhatkit) (0.1.3)\n",
      "Requirement already satisfied: pygetwindow>=0.0.5 in c:\\praveen\\books\\aimldl\\projects\\endtoendmlproj\\bostonhousepricing\\venv\\lib\\site-packages (from pyautogui->pywhatkit) (0.0.9)\n",
      "Requirement already satisfied: PyTweening>=1.0.1 in c:\\praveen\\books\\aimldl\\projects\\endtoendmlproj\\bostonhousepricing\\venv\\lib\\site-packages (from pyautogui->pywhatkit) (1.0.4)\n",
      "Requirement already satisfied: urllib3<1.27,>=1.21.1 in c:\\praveen\\books\\aimldl\\projects\\endtoendmlproj\\bostonhousepricing\\venv\\lib\\site-packages (from requests->pywhatkit) (1.26.13)\n",
      "Requirement already satisfied: idna<4,>=2.5 in c:\\praveen\\books\\aimldl\\projects\\endtoendmlproj\\bostonhousepricing\\venv\\lib\\site-packages (from requests->pywhatkit) (3.4)\n",
      "Requirement already satisfied: charset-normalizer<3,>=2 in c:\\praveen\\books\\aimldl\\projects\\endtoendmlproj\\bostonhousepricing\\venv\\lib\\site-packages (from requests->pywhatkit) (2.0.4)\n",
      "Requirement already satisfied: certifi>=2017.4.17 in c:\\praveen\\books\\aimldl\\projects\\endtoendmlproj\\bostonhousepricing\\venv\\lib\\site-packages (from requests->pywhatkit) (2022.12.7)\n",
      "Requirement already satisfied: beautifulsoup4 in c:\\praveen\\books\\aimldl\\projects\\endtoendmlproj\\bostonhousepricing\\venv\\lib\\site-packages (from wikipedia->pywhatkit) (4.11.1)\n",
      "Requirement already satisfied: colorama in c:\\praveen\\books\\aimldl\\projects\\endtoendmlproj\\bostonhousepricing\\venv\\lib\\site-packages (from click>=8.0->Flask->pywhatkit) (0.4.6)\n",
      "Requirement already satisfied: zipp>=0.5 in c:\\praveen\\books\\aimldl\\projects\\endtoendmlproj\\bostonhousepricing\\venv\\lib\\site-packages (from importlib-metadata>=3.6.0->Flask->pywhatkit) (3.11.0)\n",
      "Requirement already satisfied: typing-extensions>=3.6.4 in c:\\praveen\\books\\aimldl\\projects\\endtoendmlproj\\bostonhousepricing\\venv\\lib\\site-packages (from importlib-metadata>=3.6.0->Flask->pywhatkit) (4.4.0)\n",
      "Requirement already satisfied: MarkupSafe>=2.0 in c:\\praveen\\books\\aimldl\\projects\\endtoendmlproj\\bostonhousepricing\\venv\\lib\\site-packages (from Jinja2>=3.0->Flask->pywhatkit) (2.1.1)\n",
      "Requirement already satisfied: pyrect in c:\\praveen\\books\\aimldl\\projects\\endtoendmlproj\\bostonhousepricing\\venv\\lib\\site-packages (from pygetwindow>=0.0.5->pyautogui->pywhatkit) (0.2.0)\n",
      "Requirement already satisfied: soupsieve>1.2 in c:\\praveen\\books\\aimldl\\projects\\endtoendmlproj\\bostonhousepricing\\venv\\lib\\site-packages (from beautifulsoup4->wikipedia->pywhatkit) (2.3.2.post1)\n",
      "Requirement already satisfied: pyperclip in c:\\praveen\\books\\aimldl\\projects\\endtoendmlproj\\bostonhousepricing\\venv\\lib\\site-packages (from mouseinfo->pyautogui->pywhatkit) (1.8.2)\n"
     ]
    }
   ],
   "source": [
    "!pip install pywhatkit"
   ]
  },
  {
   "cell_type": "code",
   "execution_count": null,
   "id": "a7de32ef",
   "metadata": {},
   "outputs": [
    {
     "name": "stdout",
     "output_type": "stream",
     "text": [
      "In 76425 Seconds WhatsApp will open and after 15 Seconds Message will be Delivered!\n"
     ]
    }
   ],
   "source": [
    "import pywhatkit\n",
    "\n",
    "# set time\n",
    "time = \"11:20:10\"\n",
    "phone_number = \"+919000373893\"\n",
    "message = \"This is Chat GPT message\"\n",
    "#pywhatkit.sendwhatmsg(time,phone_number,message)\n",
    "pywhatkit.sendwhatmsg(phone_number,message,16,45)"
   ]
  },
  {
   "cell_type": "code",
   "execution_count": null,
   "id": "8c6e35eb",
   "metadata": {},
   "outputs": [],
   "source": []
  }
 ],
 "metadata": {
  "kernelspec": {
   "display_name": "Python 3 (ipykernel)",
   "language": "python",
   "name": "python3"
  },
  "language_info": {
   "codemirror_mode": {
    "name": "ipython",
    "version": 3
   },
   "file_extension": ".py",
   "mimetype": "text/x-python",
   "name": "python",
   "nbconvert_exporter": "python",
   "pygments_lexer": "ipython3",
   "version": "3.7.0"
  }
 },
 "nbformat": 4,
 "nbformat_minor": 5
}
