{
 "cells": [
  {
   "cell_type": "markdown",
   "id": "4e2c533f",
   "metadata": {
    "papermill": {
     "duration": 0.044996,
     "end_time": "2021-08-07T15:52:16.818803",
     "exception": false,
     "start_time": "2021-08-07T15:52:16.773807",
     "status": "completed"
    },
    "tags": []
   },
   "source": [
    "# Feature Meanings and Predication for Used Car Auction Prices "
   ]
  },
  {
   "cell_type": "code",
   "execution_count": 1,
   "id": "ddb03a2d",
   "metadata": {
    "execution": {
     "iopub.execute_input": "2021-08-07T15:52:16.908993Z",
     "iopub.status.busy": "2021-08-07T15:52:16.908119Z",
     "iopub.status.idle": "2021-08-07T15:52:19.762183Z",
     "shell.execute_reply": "2021-08-07T15:52:19.761165Z",
     "shell.execute_reply.started": "2021-08-07T15:50:13.193505Z"
    },
    "papermill": {
     "duration": 2.895929,
     "end_time": "2021-08-07T15:52:19.762405",
     "exception": false,
     "start_time": "2021-08-07T15:52:16.866476",
     "status": "completed"
    },
    "tags": []
   },
   "outputs": [
    {
     "data": {
      "text/html": [
       "<style type='text/css'>\n",
       ".datatable table.frame { margin-bottom: 0; }\n",
       ".datatable table.frame thead { border-bottom: none; }\n",
       ".datatable table.frame tr.coltypes td {  color: #FFFFFF;  line-height: 6px;  padding: 0 0.5em;}\n",
       ".datatable .bool    { background: #DDDD99; }\n",
       ".datatable .object  { background: #565656; }\n",
       ".datatable .int     { background: #5D9E5D; }\n",
       ".datatable .float   { background: #4040CC; }\n",
       ".datatable .str     { background: #CC4040; }\n",
       ".datatable .time    { background: #40CC40; }\n",
       ".datatable .row_index {  background: var(--jp-border-color3);  border-right: 1px solid var(--jp-border-color0);  color: var(--jp-ui-font-color3);  font-size: 9px;}\n",
       ".datatable .frame tbody td { text-align: left; }\n",
       ".datatable .frame tr.coltypes .row_index {  background: var(--jp-border-color0);}\n",
       ".datatable th:nth-child(2) { padding-left: 12px; }\n",
       ".datatable .hellipsis {  color: var(--jp-cell-editor-border-color);}\n",
       ".datatable .vellipsis {  background: var(--jp-layout-color0);  color: var(--jp-cell-editor-border-color);}\n",
       ".datatable .na {  color: var(--jp-cell-editor-border-color);  font-size: 80%;}\n",
       ".datatable .sp {  opacity: 0.25;}\n",
       ".datatable .footer { font-size: 9px; }\n",
       ".datatable .frame_dimensions {  background: var(--jp-border-color3);  border-top: 1px solid var(--jp-border-color0);  color: var(--jp-ui-font-color3);  display: inline-block;  opacity: 0.6;  padding: 1px 10px 1px 5px;}\n",
       "</style>\n"
      ],
      "text/plain": [
       "<IPython.core.display.HTML object>"
      ]
     },
     "metadata": {},
     "output_type": "display_data"
    }
   ],
   "source": [
    "import pandas as pd\n",
    "import numpy as np\n",
    "import re\n",
    "\n",
    "import matplotlib.pyplot as plt\n",
    "import seaborn as sns\n",
    "\n",
    "from sklearn.linear_model import LinearRegression\n",
    "from sklearn.model_selection import train_test_split\n",
    "from sklearn.metrics import r2_score,accuracy_score\n",
    "from sklearn.ensemble import RandomForestRegressor\n",
    "import optuna\n",
    "import lightgbm as lgb  "
   ]
  },
  {
   "cell_type": "code",
   "execution_count": 2,
   "id": "6becb04e",
   "metadata": {
    "execution": {
     "iopub.execute_input": "2021-08-07T15:52:19.845100Z",
     "iopub.status.busy": "2021-08-07T15:52:19.844475Z",
     "iopub.status.idle": "2021-08-07T15:52:22.603360Z",
     "shell.execute_reply": "2021-08-07T15:52:22.602660Z",
     "shell.execute_reply.started": "2021-08-07T15:50:13.204808Z"
    },
    "papermill": {
     "duration": 2.797405,
     "end_time": "2021-08-07T15:52:22.603503",
     "exception": false,
     "start_time": "2021-08-07T15:52:19.806098",
     "status": "completed"
    },
    "tags": []
   },
   "outputs": [
    {
     "name": "stderr",
     "output_type": "stream",
     "text": [
      "b'Skipping line 408163: expected 16 fields, saw 17\\nSkipping line 417837: expected 16 fields, saw 17\\nSkipping line 421291: expected 16 fields, saw 17\\nSkipping line 424163: expected 16 fields, saw 17\\n'\n",
      "b'Skipping line 427042: expected 16 fields, saw 17\\nSkipping line 427045: expected 16 fields, saw 17\\nSkipping line 434426: expected 16 fields, saw 17\\nSkipping line 444503: expected 16 fields, saw 17\\nSkipping line 453796: expected 16 fields, saw 17\\n'\n",
      "b'Skipping line 461599: expected 16 fields, saw 17\\nSkipping line 461614: expected 16 fields, saw 17\\n'\n",
      "b'Skipping line 492486: expected 16 fields, saw 17\\nSkipping line 497010: expected 16 fields, saw 17\\nSkipping line 497013: expected 16 fields, saw 17\\nSkipping line 499085: expected 16 fields, saw 17\\nSkipping line 501457: expected 16 fields, saw 17\\nSkipping line 505301: expected 16 fields, saw 17\\nSkipping line 505308: expected 16 fields, saw 17\\nSkipping line 520463: expected 16 fields, saw 17\\n'\n",
      "b'Skipping line 528998: expected 16 fields, saw 17\\nSkipping line 529011: expected 16 fields, saw 17\\nSkipping line 529015: expected 16 fields, saw 17\\nSkipping line 529624: expected 16 fields, saw 17\\nSkipping line 548786: expected 16 fields, saw 17\\nSkipping line 551224: expected 16 fields, saw 17\\nSkipping line 554712: expected 16 fields, saw 17\\n'\n"
     ]
    }
   ],
   "source": [
    "df = pd.read_csv('../input/used-car-auction-prices/car_prices.csv',error_bad_lines=False,warn_bad_lines=True)"
   ]
  },
  {
   "cell_type": "code",
   "execution_count": 3,
   "id": "be9138e5",
   "metadata": {
    "execution": {
     "iopub.execute_input": "2021-08-07T15:52:22.680997Z",
     "iopub.status.busy": "2021-08-07T15:52:22.680368Z",
     "iopub.status.idle": "2021-08-07T15:52:22.705066Z",
     "shell.execute_reply": "2021-08-07T15:52:22.704460Z",
     "shell.execute_reply.started": "2021-08-07T15:50:15.219800Z"
    },
    "papermill": {
     "duration": 0.067456,
     "end_time": "2021-08-07T15:52:22.705200",
     "exception": false,
     "start_time": "2021-08-07T15:52:22.637744",
     "status": "completed"
    },
    "tags": []
   },
   "outputs": [
    {
     "data": {
      "text/html": [
       "<div>\n",
       "<style scoped>\n",
       "    .dataframe tbody tr th:only-of-type {\n",
       "        vertical-align: middle;\n",
       "    }\n",
       "\n",
       "    .dataframe tbody tr th {\n",
       "        vertical-align: top;\n",
       "    }\n",
       "\n",
       "    .dataframe thead th {\n",
       "        text-align: right;\n",
       "    }\n",
       "</style>\n",
       "<table border=\"1\" class=\"dataframe\">\n",
       "  <thead>\n",
       "    <tr style=\"text-align: right;\">\n",
       "      <th></th>\n",
       "      <th>year</th>\n",
       "      <th>make</th>\n",
       "      <th>model</th>\n",
       "      <th>trim</th>\n",
       "      <th>body</th>\n",
       "      <th>transmission</th>\n",
       "      <th>vin</th>\n",
       "      <th>state</th>\n",
       "      <th>condition</th>\n",
       "      <th>odometer</th>\n",
       "      <th>color</th>\n",
       "      <th>interior</th>\n",
       "      <th>seller</th>\n",
       "      <th>mmr</th>\n",
       "      <th>sellingprice</th>\n",
       "      <th>saledate</th>\n",
       "    </tr>\n",
       "  </thead>\n",
       "  <tbody>\n",
       "    <tr>\n",
       "      <th>0</th>\n",
       "      <td>2015</td>\n",
       "      <td>Kia</td>\n",
       "      <td>Sorento</td>\n",
       "      <td>LX</td>\n",
       "      <td>SUV</td>\n",
       "      <td>automatic</td>\n",
       "      <td>5xyktca69fg566472</td>\n",
       "      <td>ca</td>\n",
       "      <td>5.0</td>\n",
       "      <td>16639.0</td>\n",
       "      <td>white</td>\n",
       "      <td>black</td>\n",
       "      <td>kia motors america, inc</td>\n",
       "      <td>20500</td>\n",
       "      <td>21500</td>\n",
       "      <td>Tue Dec 16 2014 12:30:00 GMT-0800 (PST)</td>\n",
       "    </tr>\n",
       "    <tr>\n",
       "      <th>1</th>\n",
       "      <td>2015</td>\n",
       "      <td>Kia</td>\n",
       "      <td>Sorento</td>\n",
       "      <td>LX</td>\n",
       "      <td>SUV</td>\n",
       "      <td>automatic</td>\n",
       "      <td>5xyktca69fg561319</td>\n",
       "      <td>ca</td>\n",
       "      <td>5.0</td>\n",
       "      <td>9393.0</td>\n",
       "      <td>white</td>\n",
       "      <td>beige</td>\n",
       "      <td>kia motors america, inc</td>\n",
       "      <td>20800</td>\n",
       "      <td>21500</td>\n",
       "      <td>Tue Dec 16 2014 12:30:00 GMT-0800 (PST)</td>\n",
       "    </tr>\n",
       "    <tr>\n",
       "      <th>2</th>\n",
       "      <td>2014</td>\n",
       "      <td>BMW</td>\n",
       "      <td>3 Series</td>\n",
       "      <td>328i SULEV</td>\n",
       "      <td>Sedan</td>\n",
       "      <td>automatic</td>\n",
       "      <td>wba3c1c51ek116351</td>\n",
       "      <td>ca</td>\n",
       "      <td>4.5</td>\n",
       "      <td>1331.0</td>\n",
       "      <td>gray</td>\n",
       "      <td>black</td>\n",
       "      <td>financial services remarketing (lease)</td>\n",
       "      <td>31900</td>\n",
       "      <td>30000</td>\n",
       "      <td>Thu Jan 15 2015 04:30:00 GMT-0800 (PST)</td>\n",
       "    </tr>\n",
       "    <tr>\n",
       "      <th>3</th>\n",
       "      <td>2015</td>\n",
       "      <td>Volvo</td>\n",
       "      <td>S60</td>\n",
       "      <td>T5</td>\n",
       "      <td>Sedan</td>\n",
       "      <td>automatic</td>\n",
       "      <td>yv1612tb4f1310987</td>\n",
       "      <td>ca</td>\n",
       "      <td>4.1</td>\n",
       "      <td>14282.0</td>\n",
       "      <td>white</td>\n",
       "      <td>black</td>\n",
       "      <td>volvo na rep/world omni</td>\n",
       "      <td>27500</td>\n",
       "      <td>27750</td>\n",
       "      <td>Thu Jan 29 2015 04:30:00 GMT-0800 (PST)</td>\n",
       "    </tr>\n",
       "    <tr>\n",
       "      <th>4</th>\n",
       "      <td>2014</td>\n",
       "      <td>BMW</td>\n",
       "      <td>6 Series Gran Coupe</td>\n",
       "      <td>650i</td>\n",
       "      <td>Sedan</td>\n",
       "      <td>automatic</td>\n",
       "      <td>wba6b2c57ed129731</td>\n",
       "      <td>ca</td>\n",
       "      <td>4.3</td>\n",
       "      <td>2641.0</td>\n",
       "      <td>gray</td>\n",
       "      <td>black</td>\n",
       "      <td>financial services remarketing (lease)</td>\n",
       "      <td>66000</td>\n",
       "      <td>67000</td>\n",
       "      <td>Thu Dec 18 2014 12:30:00 GMT-0800 (PST)</td>\n",
       "    </tr>\n",
       "  </tbody>\n",
       "</table>\n",
       "</div>"
      ],
      "text/plain": [
       "   year   make                model        trim   body transmission  \\\n",
       "0  2015    Kia              Sorento          LX    SUV    automatic   \n",
       "1  2015    Kia              Sorento          LX    SUV    automatic   \n",
       "2  2014    BMW             3 Series  328i SULEV  Sedan    automatic   \n",
       "3  2015  Volvo                  S60          T5  Sedan    automatic   \n",
       "4  2014    BMW  6 Series Gran Coupe        650i  Sedan    automatic   \n",
       "\n",
       "                 vin state  condition  odometer  color interior  \\\n",
       "0  5xyktca69fg566472    ca        5.0   16639.0  white    black   \n",
       "1  5xyktca69fg561319    ca        5.0    9393.0  white    beige   \n",
       "2  wba3c1c51ek116351    ca        4.5    1331.0   gray    black   \n",
       "3  yv1612tb4f1310987    ca        4.1   14282.0  white    black   \n",
       "4  wba6b2c57ed129731    ca        4.3    2641.0   gray    black   \n",
       "\n",
       "                                   seller    mmr  sellingprice  \\\n",
       "0                 kia motors america, inc  20500         21500   \n",
       "1                 kia motors america, inc  20800         21500   \n",
       "2  financial services remarketing (lease)  31900         30000   \n",
       "3                 volvo na rep/world omni  27500         27750   \n",
       "4  financial services remarketing (lease)  66000         67000   \n",
       "\n",
       "                                  saledate  \n",
       "0  Tue Dec 16 2014 12:30:00 GMT-0800 (PST)  \n",
       "1  Tue Dec 16 2014 12:30:00 GMT-0800 (PST)  \n",
       "2  Thu Jan 15 2015 04:30:00 GMT-0800 (PST)  \n",
       "3  Thu Jan 29 2015 04:30:00 GMT-0800 (PST)  \n",
       "4  Thu Dec 18 2014 12:30:00 GMT-0800 (PST)  "
      ]
     },
     "execution_count": 3,
     "metadata": {},
     "output_type": "execute_result"
    }
   ],
   "source": [
    "df.head()"
   ]
  },
  {
   "cell_type": "markdown",
   "id": "abd139bb",
   "metadata": {
    "papermill": {
     "duration": 0.034103,
     "end_time": "2021-08-07T15:52:22.773494",
     "exception": false,
     "start_time": "2021-08-07T15:52:22.739391",
     "status": "completed"
    },
    "tags": []
   },
   "source": [
    "## Meaning of Special Features\n",
    "\n",
    "Most of the features are easy to understand, but there are some special."
   ]
  },
  {
   "attachments": {
    "f0f6c2db-a67b-4292-b823-6d3138fc83a2.png": {
     "image/png": "[encoded data removed]"
    }
   },
   "cell_type": "markdown",
   "id": "4780bf85",
   "metadata": {
    "papermill": {
     "duration": 0.033818,
     "end_time": "2021-08-07T15:52:22.841330",
     "exception": false,
     "start_time": "2021-08-07T15:52:22.807512",
     "status": "completed"
    },
    "tags": []
   },
   "source": [
    "### vin: Vehicle identification number\n",
    "\n",
    "The first special feature is `vin`. From `wikipedia`, `vin` means ***Vehicle identification number***.\n",
    "> A vehicle identification number (VIN) (also called a chassis number or frame number) is a unique code, including a serial number, used by the automotive industry to identify individual motor vehicles, towed vehicles, motorcycles, scooters and mopeds, as defined in ISO 3779 (content and structure) and ISO 4030 (location and attachment).\n",
    "\n",
    ">  A `vin` has 17 letters. Components of `vin` are `World manufacturer identifier`(1-3),`Vehicle descriptor section`(4-9) and\t`Vehicle identifier section`(10-17).\n",
    "\n",
    "> Country or region codes can be distinguished by the first 2 letters of `World manufacturer identifier`.\n",
    "\n",
    "> https://en.wikipedia.org/wiki/Vehicle_identification_number#Components\n",
    "\n",
    "So we can **add a feature `made_country` with the first 2 letters of `vin`**.\n",
    "\n",
    "\n",
    "We can check the info of a vin by https://driving-tests.org/vin-decoder/. If we query the first vin of the data `5xyktca69fg566472`,we can get a result like :\n",
    "\n",
    "![vin_example.png](attachment:f0f6c2db-a67b-4292-b823-6d3138fc83a2.png)"
   ]
  },
  {
   "cell_type": "code",
   "execution_count": 4,
   "id": "87ae5570",
   "metadata": {
    "execution": {
     "iopub.execute_input": "2021-08-07T15:52:22.915976Z",
     "iopub.status.busy": "2021-08-07T15:52:22.915335Z",
     "iopub.status.idle": "2021-08-07T15:52:23.054904Z",
     "shell.execute_reply": "2021-08-07T15:52:23.054216Z",
     "shell.execute_reply.started": "2021-08-07T15:50:15.244719Z"
    },
    "papermill": {
     "duration": 0.179746,
     "end_time": "2021-08-07T15:52:23.055050",
     "exception": false,
     "start_time": "2021-08-07T15:52:22.875304",
     "status": "completed"
    },
    "tags": []
   },
   "outputs": [],
   "source": [
    "df['made_country']=df['vin'].map(lambda x:x[:2])"
   ]
  },
  {
   "cell_type": "markdown",
   "id": "41663e59",
   "metadata": {
    "papermill": {
     "duration": 0.034168,
     "end_time": "2021-08-07T15:52:23.123893",
     "exception": false,
     "start_time": "2021-08-07T15:52:23.089725",
     "status": "completed"
    },
    "tags": []
   },
   "source": [
    "### mmr: Manheim Market Report"
   ]
  },
  {
   "cell_type": "code",
   "execution_count": 5,
   "id": "2ae0ef86",
   "metadata": {
    "execution": {
     "iopub.execute_input": "2021-08-07T15:52:23.211328Z",
     "iopub.status.busy": "2021-08-07T15:52:23.207534Z",
     "iopub.status.idle": "2021-08-07T15:52:24.321618Z",
     "shell.execute_reply": "2021-08-07T15:52:24.321010Z",
     "shell.execute_reply.started": "2021-08-07T15:50:15.497754Z"
    },
    "papermill": {
     "duration": 1.163354,
     "end_time": "2021-08-07T15:52:24.321755",
     "exception": false,
     "start_time": "2021-08-07T15:52:23.158401",
     "status": "completed"
    },
    "tags": []
   },
   "outputs": [
    {
     "data": {
      "image/png": "[encoded data removed]",
      "text/plain": [
       "<Figure size 432x288 with 1 Axes>"
      ]
     },
     "metadata": {
      "needs_background": "light"
     },
     "output_type": "display_data"
    }
   ],
   "source": [
    "plt.scatter(df['mmr'],df['sellingprice'])\n",
    "plt.show()"
   ]
  },
  {
   "cell_type": "markdown",
   "id": "2b850874",
   "metadata": {
    "papermill": {
     "duration": 0.034372,
     "end_time": "2021-08-07T15:52:24.391669",
     "exception": false,
     "start_time": "2021-08-07T15:52:24.357297",
     "status": "completed"
    },
    "tags": []
   },
   "source": [
    "What really intersting is that `mmr` and `sellingprice` are so highly correlated. I did not find an explanation in `wikipedia`. But with Google I found this https://www.autoauctionmall.com/learning-center/what-does-mmr-mean/. \n",
    "> MMR in the car business stands for Manheim Market Report, an indicator of wholesale prices.\n",
    "\n",
    "> Manheim is a company established in 1945 as a car auction company. It has grown to a very reputable company and its MMR is a baseline tool for wholesale car price determination. They base their price calculations on over 10 million transaction over the past 13-month period to .\n",
    "\n",
    "I think that explained  why `mmr` and `sellingprice` are so close to each other in the figure. `mmr` is a evaluation made by the Manheim company.The company should make full use of all the infomation of car like `model`,`odometer` and so on.\n",
    "\n",
    "So it is **not** a good idea to take `mmr` as a explanatory feature."
   ]
  },
  {
   "cell_type": "markdown",
   "id": "8146b294",
   "metadata": {
    "papermill": {
     "duration": 0.034509,
     "end_time": "2021-08-07T15:52:24.460905",
     "exception": false,
     "start_time": "2021-08-07T15:52:24.426396",
     "status": "completed"
    },
    "tags": []
   },
   "source": [
    "### odometer: measuring the distance traveled by a vehicle"
   ]
  },
  {
   "cell_type": "code",
   "execution_count": 6,
   "id": "e3a32aa5",
   "metadata": {
    "execution": {
     "iopub.execute_input": "2021-08-07T15:52:24.535798Z",
     "iopub.status.busy": "2021-08-07T15:52:24.535079Z",
     "iopub.status.idle": "2021-08-07T15:52:24.540738Z",
     "shell.execute_reply": "2021-08-07T15:52:24.540193Z",
     "shell.execute_reply.started": "2021-08-07T15:50:16.678914Z"
    },
    "papermill": {
     "duration": 0.044762,
     "end_time": "2021-08-07T15:52:24.540891",
     "exception": false,
     "start_time": "2021-08-07T15:52:24.496129",
     "status": "completed"
    },
    "tags": []
   },
   "outputs": [
    {
     "data": {
      "text/plain": [
       "68323.19579679874"
      ]
     },
     "execution_count": 6,
     "metadata": {},
     "output_type": "execute_result"
    }
   ],
   "source": [
    "df['odometer'].mean()"
   ]
  },
  {
   "cell_type": "code",
   "execution_count": 7,
   "id": "a2c2ac3b",
   "metadata": {
    "execution": {
     "iopub.execute_input": "2021-08-07T15:52:24.616155Z",
     "iopub.status.busy": "2021-08-07T15:52:24.615490Z",
     "iopub.status.idle": "2021-08-07T15:52:24.949513Z",
     "shell.execute_reply": "2021-08-07T15:52:24.950063Z",
     "shell.execute_reply.started": "2021-08-07T15:50:16.686763Z"
    },
    "papermill": {
     "duration": 0.374344,
     "end_time": "2021-08-07T15:52:24.950233",
     "exception": false,
     "start_time": "2021-08-07T15:52:24.575889",
     "status": "completed"
    },
    "tags": []
   },
   "outputs": [
    {
     "data": {
      "text/plain": [
       "<AxesSubplot:ylabel='Frequency'>"
      ]
     },
     "execution_count": 7,
     "metadata": {},
     "output_type": "execute_result"
    },
    {
     "data": {
      "image/png": "[encoded data removed]",
      "text/plain": [
       "<Figure size 432x288 with 1 Axes>"
      ]
     },
     "metadata": {
      "needs_background": "light"
     },
     "output_type": "display_data"
    }
   ],
   "source": [
    "(df['odometer']/1000).plot.hist(bins=50, alpha=0.5)"
   ]
  },
  {
   "cell_type": "markdown",
   "id": "65120871",
   "metadata": {
    "papermill": {
     "duration": 0.036231,
     "end_time": "2021-08-07T15:52:25.022345",
     "exception": false,
     "start_time": "2021-08-07T15:52:24.986114",
     "status": "completed"
    },
    "tags": []
   },
   "source": [
    "`odometer` means:\n",
    "> An odometer or odograph is an instrument used for measuring the distance traveled by a vehicle, such as a bicycle or car. The device may be electronic, mechanical, or a combination of the two (electromechanical). The noun derives from ancient Greek ὁδόμετρον, hodómetron, from ὁδός, hodós (\"path\" or \"gateway\") and μέτρον, métron (\"measure\"). Early forms of the odometer existed in the ancient Greco-Roman world as well as in ancient China. In countries using Imperial units or US customary units it is sometimes called a mileometer or milometer, the former name especially being prevalent in the United Kingdom and among members of the Commonwealth.\n",
    "> https://en.wikipedia.org/wiki/Odometer\n",
    "\n",
    "From the figure above,the unit of measurement may be `kilometers`. If that is true, the mean odometer of used cars is 68000 kilometers. And most of them are within 200000 kilometers."
   ]
  },
  {
   "cell_type": "markdown",
   "id": "78a36e1b",
   "metadata": {
    "papermill": {
     "duration": 0.036254,
     "end_time": "2021-08-07T15:52:25.095242",
     "exception": false,
     "start_time": "2021-08-07T15:52:25.058988",
     "status": "completed"
    },
    "tags": []
   },
   "source": [
    "### year: vehicle's model year\n",
    "\n",
    "After checking several vins, the `year` equals vehicle's model year."
   ]
  },
  {
   "cell_type": "markdown",
   "id": "471ec6f6",
   "metadata": {
    "papermill": {
     "duration": 0.037,
     "end_time": "2021-08-07T15:52:25.168672",
     "exception": false,
     "start_time": "2021-08-07T15:52:25.131672",
     "status": "completed"
    },
    "tags": []
   },
   "source": [
    "##  Data Preparation"
   ]
  },
  {
   "cell_type": "markdown",
   "id": "4efbc6c9",
   "metadata": {
    "papermill": {
     "duration": 0.036102,
     "end_time": "2021-08-07T15:52:25.241813",
     "exception": false,
     "start_time": "2021-08-07T15:52:25.205711",
     "status": "completed"
    },
    "tags": []
   },
   "source": [
    " overview of the data\n"
   ]
  },
  {
   "cell_type": "code",
   "execution_count": 8,
   "id": "7c1a6ff4",
   "metadata": {
    "execution": {
     "iopub.execute_input": "2021-08-07T15:52:25.318456Z",
     "iopub.status.busy": "2021-08-07T15:52:25.317837Z",
     "iopub.status.idle": "2021-08-07T15:52:26.505845Z",
     "shell.execute_reply": "2021-08-07T15:52:26.506303Z",
     "shell.execute_reply.started": "2021-08-07T15:50:17.119103Z"
    },
    "papermill": {
     "duration": 1.228215,
     "end_time": "2021-08-07T15:52:26.506482",
     "exception": false,
     "start_time": "2021-08-07T15:52:25.278267",
     "status": "completed"
    },
    "scrolled": true,
    "tags": []
   },
   "outputs": [
    {
     "data": {
      "text/html": [
       "<div>\n",
       "<style scoped>\n",
       "    .dataframe tbody tr th:only-of-type {\n",
       "        vertical-align: middle;\n",
       "    }\n",
       "\n",
       "    .dataframe tbody tr th {\n",
       "        vertical-align: top;\n",
       "    }\n",
       "\n",
       "    .dataframe thead th {\n",
       "        text-align: right;\n",
       "    }\n",
       "</style>\n",
       "<table border=\"1\" class=\"dataframe\">\n",
       "  <thead>\n",
       "    <tr style=\"text-align: right;\">\n",
       "      <th></th>\n",
       "      <th>transmission</th>\n",
       "      <th>body</th>\n",
       "      <th>condition</th>\n",
       "      <th>trim</th>\n",
       "      <th>model</th>\n",
       "      <th>make</th>\n",
       "      <th>color</th>\n",
       "      <th>interior</th>\n",
       "      <th>odometer</th>\n",
       "      <th>mmr</th>\n",
       "      <th>saledate</th>\n",
       "      <th>sellingprice</th>\n",
       "      <th>year</th>\n",
       "      <th>seller</th>\n",
       "      <th>state</th>\n",
       "      <th>vin</th>\n",
       "      <th>made_country</th>\n",
       "    </tr>\n",
       "  </thead>\n",
       "  <tbody>\n",
       "    <tr>\n",
       "      <th>null_per</th>\n",
       "      <td>0.11695</td>\n",
       "      <td>0.023613</td>\n",
       "      <td>0.021106</td>\n",
       "      <td>0.01906</td>\n",
       "      <td>0.018609</td>\n",
       "      <td>0.018434</td>\n",
       "      <td>0.00134</td>\n",
       "      <td>0.00134</td>\n",
       "      <td>0.000168</td>\n",
       "      <td>0.0</td>\n",
       "      <td>0.0</td>\n",
       "      <td>0.0</td>\n",
       "      <td>0.0</td>\n",
       "      <td>0.0</td>\n",
       "      <td>0.0</td>\n",
       "      <td>0.0</td>\n",
       "      <td>0.0</td>\n",
       "    </tr>\n",
       "    <tr>\n",
       "      <th>dtypes</th>\n",
       "      <td>object</td>\n",
       "      <td>object</td>\n",
       "      <td>float64</td>\n",
       "      <td>object</td>\n",
       "      <td>object</td>\n",
       "      <td>object</td>\n",
       "      <td>object</td>\n",
       "      <td>object</td>\n",
       "      <td>float64</td>\n",
       "      <td>int64</td>\n",
       "      <td>object</td>\n",
       "      <td>int64</td>\n",
       "      <td>int64</td>\n",
       "      <td>object</td>\n",
       "      <td>object</td>\n",
       "      <td>object</td>\n",
       "      <td>object</td>\n",
       "    </tr>\n",
       "    <tr>\n",
       "      <th>nuique</th>\n",
       "      <td>2</td>\n",
       "      <td>86</td>\n",
       "      <td>41</td>\n",
       "      <td>1975</td>\n",
       "      <td>973</td>\n",
       "      <td>96</td>\n",
       "      <td>20</td>\n",
       "      <td>17</td>\n",
       "      <td>172277</td>\n",
       "      <td>1101</td>\n",
       "      <td>3745</td>\n",
       "      <td>1887</td>\n",
       "      <td>34</td>\n",
       "      <td>14264</td>\n",
       "      <td>38</td>\n",
       "      <td>550296</td>\n",
       "      <td>103</td>\n",
       "    </tr>\n",
       "  </tbody>\n",
       "</table>\n",
       "</div>"
      ],
      "text/plain": [
       "         transmission      body condition     trim     model      make  \\\n",
       "null_per      0.11695  0.023613  0.021106  0.01906  0.018609  0.018434   \n",
       "dtypes         object    object   float64   object    object    object   \n",
       "nuique              2        86        41     1975       973        96   \n",
       "\n",
       "            color interior  odometer    mmr saledate sellingprice   year  \\\n",
       "null_per  0.00134  0.00134  0.000168    0.0      0.0          0.0    0.0   \n",
       "dtypes     object   object   float64  int64   object        int64  int64   \n",
       "nuique         20       17    172277   1101     3745         1887     34   \n",
       "\n",
       "          seller   state     vin made_country  \n",
       "null_per     0.0     0.0     0.0          0.0  \n",
       "dtypes    object  object  object       object  \n",
       "nuique     14264      38  550296          103  "
      ]
     },
     "execution_count": 8,
     "metadata": {},
     "output_type": "execute_result"
    }
   ],
   "source": [
    "pd.DataFrame([df.isnull().mean(),df.dtypes,df.nunique()],index=['null_per','dtypes','nuique'])\\\n",
    "    .sort_values(by=['null_per'],axis=1,ascending=False)"
   ]
  },
  {
   "cell_type": "markdown",
   "id": "d9bb2690",
   "metadata": {
    "papermill": {
     "duration": 0.035882,
     "end_time": "2021-08-07T15:52:26.578947",
     "exception": false,
     "start_time": "2021-08-07T15:52:26.543065",
     "status": "completed"
    },
    "tags": []
   },
   "source": [
    "handle missing values, drop them all since the the ratio is not high.\n"
   ]
  },
  {
   "cell_type": "code",
   "execution_count": 9,
   "id": "0992d549",
   "metadata": {
    "execution": {
     "iopub.execute_input": "2021-08-07T15:52:26.656766Z",
     "iopub.status.busy": "2021-08-07T15:52:26.656153Z",
     "iopub.status.idle": "2021-08-07T15:52:27.218972Z",
     "shell.execute_reply": "2021-08-07T15:52:27.219424Z",
     "shell.execute_reply.started": "2021-08-07T15:50:19.199148Z"
    },
    "papermill": {
     "duration": 0.604407,
     "end_time": "2021-08-07T15:52:27.219605",
     "exception": false,
     "start_time": "2021-08-07T15:52:26.615198",
     "status": "completed"
    },
    "tags": []
   },
   "outputs": [],
   "source": [
    "df=df.dropna(axis=0)"
   ]
  },
  {
   "cell_type": "markdown",
   "id": "6c72dc9d",
   "metadata": {
    "papermill": {
     "duration": 0.036207,
     "end_time": "2021-08-07T15:52:27.292563",
     "exception": false,
     "start_time": "2021-08-07T15:52:27.256356",
     "status": "completed"
    },
    "tags": []
   },
   "source": [
    "data extract\n"
   ]
  },
  {
   "cell_type": "code",
   "execution_count": 10,
   "id": "bc136ec8",
   "metadata": {
    "execution": {
     "iopub.execute_input": "2021-08-07T15:52:27.370407Z",
     "iopub.status.busy": "2021-08-07T15:52:27.369671Z",
     "iopub.status.idle": "2021-08-07T15:52:27.504432Z",
     "shell.execute_reply": "2021-08-07T15:52:27.503792Z",
     "shell.execute_reply.started": "2021-08-07T15:50:20.265909Z"
    },
    "papermill": {
     "duration": 0.175807,
     "end_time": "2021-08-07T15:52:27.504677",
     "exception": false,
     "start_time": "2021-08-07T15:52:27.328870",
     "status": "completed"
    },
    "tags": []
   },
   "outputs": [],
   "source": [
    "# extract `made_country` from vin\n",
    "df['made_country']=df['vin'].map(lambda x:x[:2])"
   ]
  },
  {
   "cell_type": "code",
   "execution_count": 11,
   "id": "adfe1efc",
   "metadata": {
    "execution": {
     "iopub.execute_input": "2021-08-07T15:52:27.599644Z",
     "iopub.status.busy": "2021-08-07T15:52:27.598767Z",
     "iopub.status.idle": "2021-08-07T15:52:28.264939Z",
     "shell.execute_reply": "2021-08-07T15:52:28.264403Z",
     "shell.execute_reply.started": "2021-08-07T15:50:20.463587Z"
    },
    "papermill": {
     "duration": 0.72331,
     "end_time": "2021-08-07T15:52:28.265085",
     "exception": false,
     "start_time": "2021-08-07T15:52:27.541775",
     "status": "completed"
    },
    "tags": []
   },
   "outputs": [],
   "source": [
    "# extract selling date info\n",
    "df['sale_datetime'] = pd.to_datetime(df['saledate'],utc=True)\n"
   ]
  },
  {
   "cell_type": "code",
   "execution_count": 12,
   "id": "c9435cb4",
   "metadata": {
    "execution": {
     "iopub.execute_input": "2021-08-07T15:52:28.344075Z",
     "iopub.status.busy": "2021-08-07T15:52:28.343285Z",
     "iopub.status.idle": "2021-08-07T15:52:28.620447Z",
     "shell.execute_reply": "2021-08-07T15:52:28.619804Z",
     "shell.execute_reply.started": "2021-08-07T15:50:21.342474Z"
    },
    "papermill": {
     "duration": 0.319235,
     "end_time": "2021-08-07T15:52:28.620583",
     "exception": false,
     "start_time": "2021-08-07T15:52:28.301348",
     "status": "completed"
    },
    "tags": []
   },
   "outputs": [],
   "source": [
    "df['sale_year']=df['sale_datetime'].dt.year.astype('int8')\n",
    "df['sale_quarter']=df['sale_datetime'].dt.quarter.astype('int8')\n",
    "df['sale_month']=df['sale_datetime'].dt.month.astype('int8')\n",
    "df['sale_dayofweek']=df['sale_datetime'].dt.day_of_week.astype('int8')\n",
    "df['sale_day']=df['sale_datetime'].dt.day.astype('int8')\n",
    "df['sale_hour']= df['sale_datetime'].dt.hour.astype('int8')"
   ]
  },
  {
   "cell_type": "code",
   "execution_count": 13,
   "id": "cbc83d3c",
   "metadata": {
    "execution": {
     "iopub.execute_input": "2021-08-07T15:52:28.699877Z",
     "iopub.status.busy": "2021-08-07T15:52:28.698622Z",
     "iopub.status.idle": "2021-08-07T15:52:28.843122Z",
     "shell.execute_reply": "2021-08-07T15:52:28.842627Z",
     "shell.execute_reply.started": "2021-08-07T15:50:21.626618Z"
    },
    "papermill": {
     "duration": 0.185553,
     "end_time": "2021-08-07T15:52:28.843266",
     "exception": false,
     "start_time": "2021-08-07T15:52:28.657713",
     "status": "completed"
    },
    "tags": []
   },
   "outputs": [],
   "source": [
    "# clean body\n",
    "df['xbody']=df['body'].map(lambda x:str(x).lower())"
   ]
  },
  {
   "cell_type": "code",
   "execution_count": 14,
   "id": "7ffd7047",
   "metadata": {
    "execution": {
     "iopub.execute_input": "2021-08-07T15:52:28.922599Z",
     "iopub.status.busy": "2021-08-07T15:52:28.921749Z",
     "iopub.status.idle": "2021-08-07T15:52:30.140942Z",
     "shell.execute_reply": "2021-08-07T15:52:30.140446Z",
     "shell.execute_reply.started": "2021-08-07T15:50:21.829385Z"
    },
    "papermill": {
     "duration": 1.260178,
     "end_time": "2021-08-07T15:52:30.141086",
     "exception": false,
     "start_time": "2021-08-07T15:52:28.880908",
     "status": "completed"
    },
    "tags": []
   },
   "outputs": [
    {
     "data": {
      "text/html": [
       "<div>\n",
       "<style scoped>\n",
       "    .dataframe tbody tr th:only-of-type {\n",
       "        vertical-align: middle;\n",
       "    }\n",
       "\n",
       "    .dataframe tbody tr th {\n",
       "        vertical-align: top;\n",
       "    }\n",
       "\n",
       "    .dataframe thead th {\n",
       "        text-align: right;\n",
       "    }\n",
       "</style>\n",
       "<table border=\"1\" class=\"dataframe\">\n",
       "  <thead>\n",
       "    <tr style=\"text-align: right;\">\n",
       "      <th></th>\n",
       "      <th>year</th>\n",
       "      <th>mmr</th>\n",
       "      <th>sale_hour</th>\n",
       "      <th>sale_day</th>\n",
       "      <th>sale_dayofweek</th>\n",
       "      <th>sale_month</th>\n",
       "      <th>sale_quarter</th>\n",
       "      <th>sale_year</th>\n",
       "      <th>sale_datetime</th>\n",
       "      <th>made_country</th>\n",
       "      <th>...</th>\n",
       "      <th>color</th>\n",
       "      <th>odometer</th>\n",
       "      <th>condition</th>\n",
       "      <th>state</th>\n",
       "      <th>vin</th>\n",
       "      <th>transmission</th>\n",
       "      <th>body</th>\n",
       "      <th>trim</th>\n",
       "      <th>model</th>\n",
       "      <th>xbody</th>\n",
       "    </tr>\n",
       "  </thead>\n",
       "  <tbody>\n",
       "    <tr>\n",
       "      <th>null_per</th>\n",
       "      <td>0.0</td>\n",
       "      <td>0.0</td>\n",
       "      <td>0.0</td>\n",
       "      <td>0.0</td>\n",
       "      <td>0.0</td>\n",
       "      <td>0.0</td>\n",
       "      <td>0.0</td>\n",
       "      <td>0.0</td>\n",
       "      <td>0.0</td>\n",
       "      <td>0.0</td>\n",
       "      <td>...</td>\n",
       "      <td>0.0</td>\n",
       "      <td>0.0</td>\n",
       "      <td>0.0</td>\n",
       "      <td>0.0</td>\n",
       "      <td>0.0</td>\n",
       "      <td>0.0</td>\n",
       "      <td>0.0</td>\n",
       "      <td>0.0</td>\n",
       "      <td>0.0</td>\n",
       "      <td>0.0</td>\n",
       "    </tr>\n",
       "    <tr>\n",
       "      <th>dtypes</th>\n",
       "      <td>int64</td>\n",
       "      <td>int64</td>\n",
       "      <td>int8</td>\n",
       "      <td>int8</td>\n",
       "      <td>int8</td>\n",
       "      <td>int8</td>\n",
       "      <td>int8</td>\n",
       "      <td>int8</td>\n",
       "      <td>datetime64[ns, UTC]</td>\n",
       "      <td>object</td>\n",
       "      <td>...</td>\n",
       "      <td>object</td>\n",
       "      <td>float64</td>\n",
       "      <td>float64</td>\n",
       "      <td>object</td>\n",
       "      <td>object</td>\n",
       "      <td>object</td>\n",
       "      <td>object</td>\n",
       "      <td>object</td>\n",
       "      <td>object</td>\n",
       "      <td>object</td>\n",
       "    </tr>\n",
       "    <tr>\n",
       "      <th>nuique</th>\n",
       "      <td>26</td>\n",
       "      <td>1099</td>\n",
       "      <td>21</td>\n",
       "      <td>31</td>\n",
       "      <td>6</td>\n",
       "      <td>8</td>\n",
       "      <td>4</td>\n",
       "      <td>2</td>\n",
       "      <td>3609</td>\n",
       "      <td>101</td>\n",
       "      <td>...</td>\n",
       "      <td>20</td>\n",
       "      <td>160427</td>\n",
       "      <td>41</td>\n",
       "      <td>34</td>\n",
       "      <td>465779</td>\n",
       "      <td>2</td>\n",
       "      <td>85</td>\n",
       "      <td>1507</td>\n",
       "      <td>768</td>\n",
       "      <td>45</td>\n",
       "    </tr>\n",
       "  </tbody>\n",
       "</table>\n",
       "<p>3 rows × 25 columns</p>\n",
       "</div>"
      ],
      "text/plain": [
       "           year    mmr sale_hour sale_day sale_dayofweek sale_month  \\\n",
       "null_per    0.0    0.0       0.0      0.0            0.0        0.0   \n",
       "dtypes    int64  int64      int8     int8           int8       int8   \n",
       "nuique       26   1099        21       31              6          8   \n",
       "\n",
       "         sale_quarter sale_year        sale_datetime made_country  ...  \\\n",
       "null_per          0.0       0.0                  0.0          0.0  ...   \n",
       "dtypes           int8      int8  datetime64[ns, UTC]       object  ...   \n",
       "nuique              4         2                 3609          101  ...   \n",
       "\n",
       "           color odometer condition   state     vin transmission    body  \\\n",
       "null_per     0.0      0.0       0.0     0.0     0.0          0.0     0.0   \n",
       "dtypes    object  float64   float64  object  object       object  object   \n",
       "nuique        20   160427        41      34  465779            2      85   \n",
       "\n",
       "            trim   model   xbody  \n",
       "null_per     0.0     0.0     0.0  \n",
       "dtypes    object  object  object  \n",
       "nuique      1507     768      45  \n",
       "\n",
       "[3 rows x 25 columns]"
      ]
     },
     "execution_count": 14,
     "metadata": {},
     "output_type": "execute_result"
    }
   ],
   "source": [
    "pd.DataFrame([df.isnull().mean(),df.dtypes,df.nunique()],index=['null_per','dtypes','nuique'])\\\n",
    "    .sort_values(by=['null_per'],axis=1,ascending=False)"
   ]
  },
  {
   "cell_type": "code",
   "execution_count": 15,
   "id": "a16ac7f5",
   "metadata": {
    "execution": {
     "iopub.execute_input": "2021-08-07T15:52:30.220496Z",
     "iopub.status.busy": "2021-08-07T15:52:30.219900Z",
     "iopub.status.idle": "2021-08-07T15:52:30.225622Z",
     "shell.execute_reply": "2021-08-07T15:52:30.225142Z",
     "shell.execute_reply.started": "2021-08-07T15:50:23.896151Z"
    },
    "papermill": {
     "duration": 0.046262,
     "end_time": "2021-08-07T15:52:30.225750",
     "exception": false,
     "start_time": "2021-08-07T15:52:30.179488",
     "status": "completed"
    },
    "tags": []
   },
   "outputs": [],
   "source": [
    "# compress data\n",
    "df['year']= df['year'].astype('int8')"
   ]
  },
  {
   "cell_type": "markdown",
   "id": "e0f733aa",
   "metadata": {
    "papermill": {
     "duration": 0.036505,
     "end_time": "2021-08-07T15:52:30.298975",
     "exception": false,
     "start_time": "2021-08-07T15:52:30.262470",
     "status": "completed"
    },
    "tags": []
   },
   "source": [
    "## Insight"
   ]
  },
  {
   "cell_type": "markdown",
   "id": "039418bb",
   "metadata": {
    "papermill": {
     "duration": 0.036446,
     "end_time": "2021-08-07T15:52:30.372247",
     "exception": false,
     "start_time": "2021-08-07T15:52:30.335801",
     "status": "completed"
    },
    "tags": []
   },
   "source": [
    "### When do people sell their car?\n",
    "\n",
    "Check from `odometer` ,`condition` and `used_year`"
   ]
  },
  {
   "cell_type": "code",
   "execution_count": 16,
   "id": "85641b80",
   "metadata": {
    "execution": {
     "iopub.execute_input": "2021-08-07T15:52:30.451993Z",
     "iopub.status.busy": "2021-08-07T15:52:30.450586Z",
     "iopub.status.idle": "2021-08-07T15:52:30.781309Z",
     "shell.execute_reply": "2021-08-07T15:52:30.780339Z",
     "shell.execute_reply.started": "2021-08-07T15:50:23.905635Z"
    },
    "papermill": {
     "duration": 0.372541,
     "end_time": "2021-08-07T15:52:30.781513",
     "exception": false,
     "start_time": "2021-08-07T15:52:30.408972",
     "status": "completed"
    },
    "scrolled": true,
    "tags": []
   },
   "outputs": [
    {
     "data": {
      "text/plain": [
       "<AxesSubplot:title={'center':'Distribution of odometer'}, ylabel='Frequency'>"
      ]
     },
     "execution_count": 16,
     "metadata": {},
     "output_type": "execute_result"
    },
    {
     "data": {
      "image/png": "[encoded data removed]",
      "text/plain": [
       "<Figure size 432x288 with 1 Axes>"
      ]
     },
     "metadata": {
      "needs_background": "light"
     },
     "output_type": "display_data"
    }
   ],
   "source": [
    "df['odometer'].plot.hist(bins=50,alpha=0.5,title='Distribution of odometer')"
   ]
  },
  {
   "cell_type": "code",
   "execution_count": 17,
   "id": "0d92ccb8",
   "metadata": {
    "execution": {
     "iopub.execute_input": "2021-08-07T15:52:30.863497Z",
     "iopub.status.busy": "2021-08-07T15:52:30.862047Z",
     "iopub.status.idle": "2021-08-07T15:52:31.169259Z",
     "shell.execute_reply": "2021-08-07T15:52:31.168614Z",
     "shell.execute_reply.started": "2021-08-07T15:50:24.322977Z"
    },
    "papermill": {
     "duration": 0.349782,
     "end_time": "2021-08-07T15:52:31.169405",
     "exception": false,
     "start_time": "2021-08-07T15:52:30.819623",
     "status": "completed"
    },
    "tags": []
   },
   "outputs": [
    {
     "data": {
      "text/plain": [
       "<AxesSubplot:title={'center':'Distribution of condition'}, ylabel='Frequency'>"
      ]
     },
     "execution_count": 17,
     "metadata": {},
     "output_type": "execute_result"
    },
    {
     "data": {
      "image/png": "[encoded data removed]",
      "text/plain": [
       "<Figure size 432x288 with 1 Axes>"
      ]
     },
     "metadata": {
      "needs_background": "light"
     },
     "output_type": "display_data"
    }
   ],
   "source": [
    "df['condition'].plot.hist(bins=50,alpha=0.5,title='Distribution of condition')"
   ]
  },
  {
   "cell_type": "code",
   "execution_count": 18,
   "id": "85a95d60",
   "metadata": {
    "execution": {
     "iopub.execute_input": "2021-08-07T15:52:31.252275Z",
     "iopub.status.busy": "2021-08-07T15:52:31.251418Z",
     "iopub.status.idle": "2021-08-07T15:52:31.643971Z",
     "shell.execute_reply": "2021-08-07T15:52:31.643354Z",
     "shell.execute_reply.started": "2021-08-07T15:50:24.752314Z"
    },
    "papermill": {
     "duration": 0.436167,
     "end_time": "2021-08-07T15:52:31.644103",
     "exception": false,
     "start_time": "2021-08-07T15:52:31.207936",
     "status": "completed"
    },
    "tags": []
   },
   "outputs": [
    {
     "data": {
      "text/plain": [
       "<AxesSubplot:title={'center':'Distribution of used_year'}>"
      ]
     },
     "execution_count": 18,
     "metadata": {},
     "output_type": "execute_result"
    },
    {
     "data": {
      "image/png": "[encoded data removed]",
      "text/plain": [
       "<Figure size 432x288 with 1 Axes>"
      ]
     },
     "metadata": {
      "needs_background": "light"
     },
     "output_type": "display_data"
    }
   ],
   "source": [
    "df['used_year']=df['sale_year']-df['year']\n",
    "df['used_year'].value_counts().plot.bar(title='Distribution of used_year')"
   ]
  },
  {
   "cell_type": "markdown",
   "id": "20b3fc6c",
   "metadata": {
    "papermill": {
     "duration": 0.03911,
     "end_time": "2021-08-07T15:52:31.723574",
     "exception": false,
     "start_time": "2021-08-07T15:52:31.684464",
     "status": "completed"
    },
    "tags": []
   },
   "source": [
    "So  deals from the dataset indicate that people are more inclined to using their cars in 4 years, driving within 200,000 kilometers and sell cars with good or bad conditions."
   ]
  },
  {
   "cell_type": "markdown",
   "id": "891687ae",
   "metadata": {
    "papermill": {
     "duration": 0.039479,
     "end_time": "2021-08-07T15:52:31.802840",
     "exception": false,
     "start_time": "2021-08-07T15:52:31.763361",
     "status": "completed"
    },
    "tags": []
   },
   "source": [
    "### Should a seller choose to believe `mmr`?"
   ]
  },
  {
   "cell_type": "code",
   "execution_count": 19,
   "id": "26eeef60",
   "metadata": {
    "execution": {
     "iopub.execute_input": "2021-08-07T15:52:31.887251Z",
     "iopub.status.busy": "2021-08-07T15:52:31.886072Z",
     "iopub.status.idle": "2021-08-07T15:52:31.891484Z",
     "shell.execute_reply": "2021-08-07T15:52:31.890923Z",
     "shell.execute_reply.started": "2021-08-07T15:50:25.190064Z"
    },
    "papermill": {
     "duration": 0.049357,
     "end_time": "2021-08-07T15:52:31.891611",
     "exception": false,
     "start_time": "2021-08-07T15:52:31.842254",
     "status": "completed"
    },
    "tags": []
   },
   "outputs": [],
   "source": [
    "df['sale_delta'] = df['sellingprice']-df['mmr']"
   ]
  },
  {
   "cell_type": "code",
   "execution_count": 20,
   "id": "3a1cad8d",
   "metadata": {
    "execution": {
     "iopub.execute_input": "2021-08-07T15:52:31.988469Z",
     "iopub.status.busy": "2021-08-07T15:52:31.976598Z",
     "iopub.status.idle": "2021-08-07T15:52:32.919072Z",
     "shell.execute_reply": "2021-08-07T15:52:32.918552Z",
     "shell.execute_reply.started": "2021-08-07T15:50:25.198686Z"
    },
    "papermill": {
     "duration": 0.988451,
     "end_time": "2021-08-07T15:52:32.919217",
     "exception": false,
     "start_time": "2021-08-07T15:52:31.930766",
     "status": "completed"
    },
    "tags": []
   },
   "outputs": [
    {
     "data": {
      "image/png": "[encoded data removed]",
      "text/plain": [
       "<Figure size 432x288 with 1 Axes>"
      ]
     },
     "metadata": {
      "needs_background": "light"
     },
     "output_type": "display_data"
    }
   ],
   "source": [
    "# condition vs sale delta\n",
    "plt.scatter(df['sale_month'],df['sale_delta'])\n",
    "plt.ylabel('sale_delta')\n",
    "plt.xlabel('sale_year ')\n",
    "plt.show()"
   ]
  },
  {
   "cell_type": "code",
   "execution_count": 21,
   "id": "2296280b",
   "metadata": {
    "execution": {
     "iopub.execute_input": "2021-08-07T15:52:33.003955Z",
     "iopub.status.busy": "2021-08-07T15:52:33.003265Z",
     "iopub.status.idle": "2021-08-07T15:52:33.330295Z",
     "shell.execute_reply": "2021-08-07T15:52:33.330730Z",
     "shell.execute_reply.started": "2021-08-07T15:50:26.236007Z"
    },
    "papermill": {
     "duration": 0.371731,
     "end_time": "2021-08-07T15:52:33.330908",
     "exception": false,
     "start_time": "2021-08-07T15:52:32.959177",
     "status": "completed"
    },
    "tags": []
   },
   "outputs": [
    {
     "data": {
      "text/plain": [
       "-147.03508526787132"
      ]
     },
     "execution_count": 21,
     "metadata": {},
     "output_type": "execute_result"
    }
   ],
   "source": [
    "# filter some outliner\n",
    "df=df[df['sale_delta']<df['sale_delta'].max()]\n",
    "df['sale_delta'].mean()"
   ]
  },
  {
   "cell_type": "code",
   "execution_count": 22,
   "id": "6b07cc48",
   "metadata": {
    "execution": {
     "iopub.execute_input": "2021-08-07T15:52:33.424672Z",
     "iopub.status.busy": "2021-08-07T15:52:33.424058Z",
     "iopub.status.idle": "2021-08-07T15:52:37.171888Z",
     "shell.execute_reply": "2021-08-07T15:52:37.172345Z",
     "shell.execute_reply.started": "2021-08-07T15:50:26.646745Z"
    },
    "papermill": {
     "duration": 3.800931,
     "end_time": "2021-08-07T15:52:37.172520",
     "exception": false,
     "start_time": "2021-08-07T15:52:33.371589",
     "status": "completed"
    },
    "tags": []
   },
   "outputs": [
    {
     "data": {
      "image/png": "[encoded data removed]",
      "text/plain": [
       "<Figure size 1008x576 with 4 Axes>"
      ]
     },
     "metadata": {
      "needs_background": "light"
     },
     "output_type": "display_data"
    }
   ],
   "source": [
    "x_list =['year','condition','odometer','sale_dayofweek']\n",
    "y = 'sale_delta'\n",
    "x_len = len(x_list)\n",
    "#\n",
    "fig,ax=plt.subplots(2,2,figsize=(14,8))\n",
    "for t in range(x_len):\n",
    "    grid_x = df[x_list[t]]\n",
    "    grid_y = df[y]\n",
    "    ax[t//2,t%2].scatter(grid_x,grid_y)\n",
    "    ax[t//2,t%2].set_title(f'Relation between {grid_x.name} and {grid_y.name}')\n",
    "plt.show()"
   ]
  },
  {
   "cell_type": "markdown",
   "id": "763c9a84",
   "metadata": {
    "papermill": {
     "duration": 0.042537,
     "end_time": "2021-08-07T15:52:37.257697",
     "exception": false,
     "start_time": "2021-08-07T15:52:37.215160",
     "status": "completed"
    },
    "tags": []
   },
   "source": [
    "`sellingprice` is close and slightly lower than the `mmr` on average. But the `sellingprice` may be higher or lower than `mmr` .The variance goes up as `year` increase and as odometer down.\n",
    "If someone dislike the variance the 4th day of week may be a good choice.\n"
   ]
  },
  {
   "cell_type": "code",
   "execution_count": 23,
   "id": "d671e564",
   "metadata": {
    "execution": {
     "iopub.execute_input": "2021-08-07T15:52:37.344025Z",
     "iopub.status.busy": "2021-08-07T15:52:37.343409Z",
     "iopub.status.idle": "2021-08-07T15:52:37.541753Z",
     "shell.execute_reply": "2021-08-07T15:52:37.542545Z",
     "shell.execute_reply.started": "2021-08-07T15:50:30.632740Z"
    },
    "papermill": {
     "duration": 0.243433,
     "end_time": "2021-08-07T15:52:37.542861",
     "exception": false,
     "start_time": "2021-08-07T15:52:37.299428",
     "status": "completed"
    },
    "tags": []
   },
   "outputs": [
    {
     "name": "stdout",
     "output_type": "stream",
     "text": [
      "0.9682079442714465\n"
     ]
    }
   ],
   "source": [
    "Xa=df['mmr'].values.reshape(-1, 1) \n",
    "ya=df['sellingprice'].values\n",
    "linear_clfa = LinearRegression()\n",
    "linear_clfa.fit(Xa,ya)\n",
    "print(linear_clfa.score(Xa,ya))\n"
   ]
  },
  {
   "cell_type": "markdown",
   "id": "7807d6e2",
   "metadata": {
    "papermill": {
     "duration": 0.042104,
     "end_time": "2021-08-07T15:52:37.628361",
     "exception": false,
     "start_time": "2021-08-07T15:52:37.586257",
     "status": "completed"
    },
    "tags": []
   },
   "source": [
    " Should a seller choose to believe `mmr`? \n",
    " \n",
    " Yes, and `mmr` can be a good predict to the final `sellingprice` only if seller has access to `mmr`.And the access should not be free and takes some time.Recent year the variance became larger and larger.  \n",
    " \n",
    " Alternatively, we can try use basic info of a car to do a prediction."
   ]
  },
  {
   "cell_type": "markdown",
   "id": "54632372",
   "metadata": {
    "papermill": {
     "duration": 0.046847,
     "end_time": "2021-08-07T15:52:37.716955",
     "exception": false,
     "start_time": "2021-08-07T15:52:37.670108",
     "status": "completed"
    },
    "tags": []
   },
   "source": [
    "## Prediction"
   ]
  },
  {
   "cell_type": "code",
   "execution_count": 24,
   "id": "4d7a950a",
   "metadata": {
    "execution": {
     "iopub.execute_input": "2021-08-07T15:52:37.803810Z",
     "iopub.status.busy": "2021-08-07T15:52:37.803177Z",
     "iopub.status.idle": "2021-08-07T15:52:38.437165Z",
     "shell.execute_reply": "2021-08-07T15:52:38.436596Z",
     "shell.execute_reply.started": "2021-08-07T15:50:30.662421Z"
    },
    "papermill": {
     "duration": 0.678318,
     "end_time": "2021-08-07T15:52:38.437316",
     "exception": false,
     "start_time": "2021-08-07T15:52:37.758998",
     "status": "completed"
    },
    "tags": []
   },
   "outputs": [
    {
     "data": {
      "image/png": "[encoded data removed]",
      "text/plain": [
       "<Figure size 504x504 with 2 Axes>"
      ]
     },
     "metadata": {},
     "output_type": "display_data"
    }
   ],
   "source": [
    "heatmap_col=['sellingprice','year','condition','odometer','mmr','used_year','sale_delta']\n",
    "sns.set(rc={'figure.figsize':(7,7)})\n",
    "sns.heatmap(df[heatmap_col].corr(), annot=True, fmt=\".2f\");"
   ]
  },
  {
   "cell_type": "code",
   "execution_count": 25,
   "id": "1ebf14de",
   "metadata": {
    "execution": {
     "iopub.execute_input": "2021-08-07T15:52:38.533169Z",
     "iopub.status.busy": "2021-08-07T15:52:38.532468Z",
     "iopub.status.idle": "2021-08-07T15:52:39.748219Z",
     "shell.execute_reply": "2021-08-07T15:52:39.747591Z",
     "shell.execute_reply.started": "2021-08-07T15:50:31.613584Z"
    },
    "papermill": {
     "duration": 1.267019,
     "end_time": "2021-08-07T15:52:39.748360",
     "exception": false,
     "start_time": "2021-08-07T15:52:38.481341",
     "status": "completed"
    },
    "tags": []
   },
   "outputs": [
    {
     "data": {
      "text/html": [
       "<div>\n",
       "<style scoped>\n",
       "    .dataframe tbody tr th:only-of-type {\n",
       "        vertical-align: middle;\n",
       "    }\n",
       "\n",
       "    .dataframe tbody tr th {\n",
       "        vertical-align: top;\n",
       "    }\n",
       "\n",
       "    .dataframe thead th {\n",
       "        text-align: right;\n",
       "    }\n",
       "</style>\n",
       "<table border=\"1\" class=\"dataframe\">\n",
       "  <thead>\n",
       "    <tr style=\"text-align: right;\">\n",
       "      <th></th>\n",
       "      <th>null_per</th>\n",
       "      <th>dtypes</th>\n",
       "      <th>nuique</th>\n",
       "    </tr>\n",
       "  </thead>\n",
       "  <tbody>\n",
       "    <tr>\n",
       "      <th>sale_year</th>\n",
       "      <td>0.0</td>\n",
       "      <td>int8</td>\n",
       "      <td>2</td>\n",
       "    </tr>\n",
       "    <tr>\n",
       "      <th>transmission</th>\n",
       "      <td>0.0</td>\n",
       "      <td>object</td>\n",
       "      <td>2</td>\n",
       "    </tr>\n",
       "    <tr>\n",
       "      <th>sale_quarter</th>\n",
       "      <td>0.0</td>\n",
       "      <td>int8</td>\n",
       "      <td>4</td>\n",
       "    </tr>\n",
       "    <tr>\n",
       "      <th>sale_dayofweek</th>\n",
       "      <td>0.0</td>\n",
       "      <td>int8</td>\n",
       "      <td>6</td>\n",
       "    </tr>\n",
       "    <tr>\n",
       "      <th>sale_month</th>\n",
       "      <td>0.0</td>\n",
       "      <td>int8</td>\n",
       "      <td>8</td>\n",
       "    </tr>\n",
       "    <tr>\n",
       "      <th>interior</th>\n",
       "      <td>0.0</td>\n",
       "      <td>object</td>\n",
       "      <td>17</td>\n",
       "    </tr>\n",
       "    <tr>\n",
       "      <th>color</th>\n",
       "      <td>0.0</td>\n",
       "      <td>object</td>\n",
       "      <td>20</td>\n",
       "    </tr>\n",
       "    <tr>\n",
       "      <th>sale_hour</th>\n",
       "      <td>0.0</td>\n",
       "      <td>int8</td>\n",
       "      <td>21</td>\n",
       "    </tr>\n",
       "    <tr>\n",
       "      <th>year</th>\n",
       "      <td>0.0</td>\n",
       "      <td>int8</td>\n",
       "      <td>26</td>\n",
       "    </tr>\n",
       "    <tr>\n",
       "      <th>used_year</th>\n",
       "      <td>0.0</td>\n",
       "      <td>int8</td>\n",
       "      <td>27</td>\n",
       "    </tr>\n",
       "    <tr>\n",
       "      <th>sale_day</th>\n",
       "      <td>0.0</td>\n",
       "      <td>int8</td>\n",
       "      <td>31</td>\n",
       "    </tr>\n",
       "    <tr>\n",
       "      <th>state</th>\n",
       "      <td>0.0</td>\n",
       "      <td>object</td>\n",
       "      <td>34</td>\n",
       "    </tr>\n",
       "    <tr>\n",
       "      <th>condition</th>\n",
       "      <td>0.0</td>\n",
       "      <td>float64</td>\n",
       "      <td>41</td>\n",
       "    </tr>\n",
       "    <tr>\n",
       "      <th>xbody</th>\n",
       "      <td>0.0</td>\n",
       "      <td>object</td>\n",
       "      <td>45</td>\n",
       "    </tr>\n",
       "    <tr>\n",
       "      <th>make</th>\n",
       "      <td>0.0</td>\n",
       "      <td>object</td>\n",
       "      <td>53</td>\n",
       "    </tr>\n",
       "    <tr>\n",
       "      <th>body</th>\n",
       "      <td>0.0</td>\n",
       "      <td>object</td>\n",
       "      <td>85</td>\n",
       "    </tr>\n",
       "    <tr>\n",
       "      <th>made_country</th>\n",
       "      <td>0.0</td>\n",
       "      <td>object</td>\n",
       "      <td>101</td>\n",
       "    </tr>\n",
       "    <tr>\n",
       "      <th>model</th>\n",
       "      <td>0.0</td>\n",
       "      <td>object</td>\n",
       "      <td>768</td>\n",
       "    </tr>\n",
       "    <tr>\n",
       "      <th>mmr</th>\n",
       "      <td>0.0</td>\n",
       "      <td>int64</td>\n",
       "      <td>1099</td>\n",
       "    </tr>\n",
       "    <tr>\n",
       "      <th>sale_delta</th>\n",
       "      <td>0.0</td>\n",
       "      <td>int64</td>\n",
       "      <td>1392</td>\n",
       "    </tr>\n",
       "    <tr>\n",
       "      <th>trim</th>\n",
       "      <td>0.0</td>\n",
       "      <td>object</td>\n",
       "      <td>1507</td>\n",
       "    </tr>\n",
       "    <tr>\n",
       "      <th>sellingprice</th>\n",
       "      <td>0.0</td>\n",
       "      <td>int64</td>\n",
       "      <td>1805</td>\n",
       "    </tr>\n",
       "    <tr>\n",
       "      <th>saledate</th>\n",
       "      <td>0.0</td>\n",
       "      <td>object</td>\n",
       "      <td>3609</td>\n",
       "    </tr>\n",
       "    <tr>\n",
       "      <th>sale_datetime</th>\n",
       "      <td>0.0</td>\n",
       "      <td>datetime64[ns, UTC]</td>\n",
       "      <td>3609</td>\n",
       "    </tr>\n",
       "    <tr>\n",
       "      <th>seller</th>\n",
       "      <td>0.0</td>\n",
       "      <td>object</td>\n",
       "      <td>11927</td>\n",
       "    </tr>\n",
       "    <tr>\n",
       "      <th>odometer</th>\n",
       "      <td>0.0</td>\n",
       "      <td>float64</td>\n",
       "      <td>160427</td>\n",
       "    </tr>\n",
       "    <tr>\n",
       "      <th>vin</th>\n",
       "      <td>0.0</td>\n",
       "      <td>object</td>\n",
       "      <td>465778</td>\n",
       "    </tr>\n",
       "  </tbody>\n",
       "</table>\n",
       "</div>"
      ],
      "text/plain": [
       "               null_per               dtypes  nuique\n",
       "sale_year           0.0                 int8       2\n",
       "transmission        0.0               object       2\n",
       "sale_quarter        0.0                 int8       4\n",
       "sale_dayofweek      0.0                 int8       6\n",
       "sale_month          0.0                 int8       8\n",
       "interior            0.0               object      17\n",
       "color               0.0               object      20\n",
       "sale_hour           0.0                 int8      21\n",
       "year                0.0                 int8      26\n",
       "used_year           0.0                 int8      27\n",
       "sale_day            0.0                 int8      31\n",
       "state               0.0               object      34\n",
       "condition           0.0              float64      41\n",
       "xbody               0.0               object      45\n",
       "make                0.0               object      53\n",
       "body                0.0               object      85\n",
       "made_country        0.0               object     101\n",
       "model               0.0               object     768\n",
       "mmr                 0.0                int64    1099\n",
       "sale_delta          0.0                int64    1392\n",
       "trim                0.0               object    1507\n",
       "sellingprice        0.0                int64    1805\n",
       "saledate            0.0               object    3609\n",
       "sale_datetime       0.0  datetime64[ns, UTC]    3609\n",
       "seller              0.0               object   11927\n",
       "odometer            0.0              float64  160427\n",
       "vin                 0.0               object  465778"
      ]
     },
     "execution_count": 25,
     "metadata": {},
     "output_type": "execute_result"
    }
   ],
   "source": [
    "pd.DataFrame([df.isnull().mean(),df.dtypes,df.nunique()],index=['null_per','dtypes','nuique'])\\\n",
    "    .sort_values(by=['nuique'],axis=1,ascending=True).T"
   ]
  },
  {
   "cell_type": "code",
   "execution_count": 26,
   "id": "08d727fd",
   "metadata": {
    "execution": {
     "iopub.execute_input": "2021-08-07T15:52:39.841727Z",
     "iopub.status.busy": "2021-08-07T15:52:39.841118Z",
     "iopub.status.idle": "2021-08-07T15:52:39.844115Z",
     "shell.execute_reply": "2021-08-07T15:52:39.843560Z",
     "shell.execute_reply.started": "2021-08-07T15:50:33.710926Z"
    },
    "papermill": {
     "duration": 0.051526,
     "end_time": "2021-08-07T15:52:39.844265",
     "exception": false,
     "start_time": "2021-08-07T15:52:39.792739",
     "status": "completed"
    },
    "tags": []
   },
   "outputs": [],
   "source": [
    "choosed_cols = ['year','condition','odometer','sellingprice',\n",
    "                'make','model','trim','transmission','state','color','interior',\n",
    "                'sale_dayofweek','sale_month','made_country','xbody']"
   ]
  },
  {
   "cell_type": "code",
   "execution_count": 27,
   "id": "21f4378d",
   "metadata": {
    "execution": {
     "iopub.execute_input": "2021-08-07T15:52:39.987219Z",
     "iopub.status.busy": "2021-08-07T15:52:39.986555Z",
     "iopub.status.idle": "2021-08-07T15:52:40.067101Z",
     "shell.execute_reply": "2021-08-07T15:52:40.066583Z",
     "shell.execute_reply.started": "2021-08-07T15:50:33.717724Z"
    },
    "papermill": {
     "duration": 0.17844,
     "end_time": "2021-08-07T15:52:40.067245",
     "exception": false,
     "start_time": "2021-08-07T15:52:39.888805",
     "status": "completed"
    },
    "tags": []
   },
   "outputs": [],
   "source": [
    "ff=df[choosed_cols].copy()"
   ]
  },
  {
   "cell_type": "code",
   "execution_count": 28,
   "id": "25adaa5f",
   "metadata": {
    "execution": {
     "iopub.execute_input": "2021-08-07T15:52:40.164686Z",
     "iopub.status.busy": "2021-08-07T15:52:40.164113Z",
     "iopub.status.idle": "2021-08-07T15:52:40.166635Z",
     "shell.execute_reply": "2021-08-07T15:52:40.167183Z",
     "shell.execute_reply.started": "2021-08-07T15:50:33.888744Z"
    },
    "papermill": {
     "duration": 0.055669,
     "end_time": "2021-08-07T15:52:40.167355",
     "exception": false,
     "start_time": "2021-08-07T15:52:40.111686",
     "status": "completed"
    },
    "tags": []
   },
   "outputs": [
    {
     "data": {
      "text/plain": [
       "year                 int8\n",
       "condition         float64\n",
       "odometer          float64\n",
       "sellingprice        int64\n",
       "make               object\n",
       "model              object\n",
       "trim               object\n",
       "transmission       object\n",
       "state              object\n",
       "color              object\n",
       "interior           object\n",
       "sale_dayofweek       int8\n",
       "sale_month           int8\n",
       "made_country       object\n",
       "xbody              object\n",
       "dtype: object"
      ]
     },
     "execution_count": 28,
     "metadata": {},
     "output_type": "execute_result"
    }
   ],
   "source": [
    "ff.dtypes"
   ]
  },
  {
   "cell_type": "code",
   "execution_count": 29,
   "id": "26321d0d",
   "metadata": {
    "execution": {
     "iopub.execute_input": "2021-08-07T15:52:40.259072Z",
     "iopub.status.busy": "2021-08-07T15:52:40.258431Z",
     "iopub.status.idle": "2021-08-07T15:52:51.695726Z",
     "shell.execute_reply": "2021-08-07T15:52:51.695123Z",
     "shell.execute_reply.started": "2021-08-07T15:50:33.900321Z"
    },
    "papermill": {
     "duration": 11.484025,
     "end_time": "2021-08-07T15:52:51.695889",
     "exception": false,
     "start_time": "2021-08-07T15:52:40.211864",
     "status": "completed"
    },
    "tags": []
   },
   "outputs": [],
   "source": [
    "# One-Hot Encode \n",
    "cat_cols = ff.select_dtypes(include=['object']).columns\n",
    "ff_1 = pd.get_dummies(ff[cat_cols],dummy_na=False,prefix_sep='_',drop_first=True)\n",
    "ff_2 = ff.drop(cat_cols,axis=1)\n",
    "\n",
    "gf = ff_1.merge(ff_2,left_index=True,right_index=True)"
   ]
  },
  {
   "cell_type": "code",
   "execution_count": 30,
   "id": "9c215f44",
   "metadata": {
    "execution": {
     "iopub.execute_input": "2021-08-07T15:52:51.790319Z",
     "iopub.status.busy": "2021-08-07T15:52:51.789420Z",
     "iopub.status.idle": "2021-08-07T15:52:51.795874Z",
     "shell.execute_reply": "2021-08-07T15:52:51.796344Z",
     "shell.execute_reply.started": "2021-08-07T15:50:45.792827Z"
    },
    "papermill": {
     "duration": 0.056029,
     "end_time": "2021-08-07T15:52:51.796503",
     "exception": false,
     "start_time": "2021-08-07T15:52:51.740474",
     "status": "completed"
    },
    "scrolled": true,
    "tags": []
   },
   "outputs": [
    {
     "data": {
      "text/plain": [
       "make_Aston Martin      uint8\n",
       "make_Audi              uint8\n",
       "make_BMW               uint8\n",
       "make_Bentley           uint8\n",
       "make_Buick             uint8\n",
       "                      ...   \n",
       "condition            float64\n",
       "odometer             float64\n",
       "sellingprice           int64\n",
       "sale_dayofweek          int8\n",
       "sale_month              int8\n",
       "Length: 2544, dtype: object"
      ]
     },
     "execution_count": 30,
     "metadata": {},
     "output_type": "execute_result"
    }
   ],
   "source": [
    "gf.dtypes"
   ]
  },
  {
   "cell_type": "code",
   "execution_count": 31,
   "id": "bb1d7f9a",
   "metadata": {
    "execution": {
     "iopub.execute_input": "2021-08-07T15:52:51.889535Z",
     "iopub.status.busy": "2021-08-07T15:52:51.888610Z",
     "iopub.status.idle": "2021-08-07T15:52:51.893902Z",
     "shell.execute_reply": "2021-08-07T15:52:51.894418Z",
     "shell.execute_reply.started": "2021-08-07T15:50:45.802868Z"
    },
    "papermill": {
     "duration": 0.053123,
     "end_time": "2021-08-07T15:52:51.894577",
     "exception": false,
     "start_time": "2021-08-07T15:52:51.841454",
     "status": "completed"
    },
    "tags": []
   },
   "outputs": [
    {
     "data": {
      "text/plain": [
       "(472335, 2544)"
      ]
     },
     "execution_count": 31,
     "metadata": {},
     "output_type": "execute_result"
    }
   ],
   "source": [
    "gf.shape"
   ]
  },
  {
   "cell_type": "code",
   "execution_count": 32,
   "id": "4fca7dba",
   "metadata": {
    "execution": {
     "iopub.execute_input": "2021-08-07T15:52:51.988566Z",
     "iopub.status.busy": "2021-08-07T15:52:51.987591Z",
     "iopub.status.idle": "2021-08-07T15:52:54.167630Z",
     "shell.execute_reply": "2021-08-07T15:52:54.168142Z",
     "shell.execute_reply.started": "2021-08-07T15:50:45.819364Z"
    },
    "papermill": {
     "duration": 2.228751,
     "end_time": "2021-08-07T15:52:54.168318",
     "exception": false,
     "start_time": "2021-08-07T15:52:51.939567",
     "status": "completed"
    },
    "tags": []
   },
   "outputs": [],
   "source": [
    "X_df = gf.drop(['sellingprice'],axis=1)\n",
    "y_df = gf['sellingprice']\n"
   ]
  },
  {
   "cell_type": "code",
   "execution_count": 33,
   "id": "79a18e3d",
   "metadata": {
    "execution": {
     "iopub.execute_input": "2021-08-07T15:52:54.265620Z",
     "iopub.status.busy": "2021-08-07T15:52:54.265013Z",
     "iopub.status.idle": "2021-08-07T15:52:54.271064Z",
     "shell.execute_reply": "2021-08-07T15:52:54.270534Z",
     "shell.execute_reply.started": "2021-08-07T15:50:47.769531Z"
    },
    "papermill": {
     "duration": 0.056069,
     "end_time": "2021-08-07T15:52:54.271208",
     "exception": false,
     "start_time": "2021-08-07T15:52:54.215139",
     "status": "completed"
    },
    "tags": []
   },
   "outputs": [],
   "source": [
    "def objective(trial):\n",
    "    data,target = X,y\n",
    "    train_x, valid_x, train_y, valid_y = train_test_split(data, target, test_size=0.25)\n",
    "    dtrain = lgb.Dataset(train_x, label=train_y)\n",
    "    param = {\n",
    "        \"n_estimators\":trial.suggest_int(\"n_estimators\",20,200,log=True),\n",
    "#         \"lambda_l1\": trial.suggest_float(\"lambda_l1\", 1e-8, 10.0, log=True),\n",
    "#         \"lambda_l2\": trial.suggest_float(\"lambda_l2\", 1e-8, 10.0, log=True),\n",
    "#         \"num_leaves\": trial.suggest_int(\"num_leaves\", 2, 256),\n",
    "    }\n",
    "    gbm = lgb.train(param, dtrain)\n",
    "    preds = gbm.predict(valid_x)\n",
    "    pred_labels = np.rint(preds)\n",
    "    score = r2_score(valid_y, pred_labels)\n",
    "    return score\n"
   ]
  },
  {
   "cell_type": "markdown",
   "id": "7c07a368",
   "metadata": {
    "papermill": {
     "duration": 0.04496,
     "end_time": "2021-08-07T15:52:54.361365",
     "exception": false,
     "start_time": "2021-08-07T15:52:54.316405",
     "status": "completed"
    },
    "tags": []
   },
   "source": [
    "It 's better to run below codes **locally** ..."
   ]
  },
  {
   "cell_type": "code",
   "execution_count": 34,
   "id": "cd3c2ccb",
   "metadata": {
    "execution": {
     "iopub.execute_input": "2021-08-07T15:52:54.459515Z",
     "iopub.status.busy": "2021-08-07T15:52:54.458769Z",
     "iopub.status.idle": "2021-08-07T15:52:54.609484Z",
     "shell.execute_reply": "2021-08-07T15:52:54.608834Z",
     "shell.execute_reply.started": "2021-08-07T15:50:47.779087Z"
    },
    "papermill": {
     "duration": 0.202825,
     "end_time": "2021-08-07T15:52:54.609773",
     "exception": true,
     "start_time": "2021-08-07T15:52:54.406948",
     "status": "failed"
    },
    "tags": []
   },
   "outputs": [
    {
     "name": "stderr",
     "output_type": "stream",
     "text": [
      "\u001b[32m[I 2021-08-07 15:52:54,457]\u001b[0m A new study created in memory with name: no-name-4be24a8b-63bb-4eba-859c-2cea106ab128\u001b[0m\n",
      "\u001b[33m[W 2021-08-07 15:52:54,459]\u001b[0m Trial 0 failed because of the following error: NameError(\"name 'X' is not defined\")\n",
      "Traceback (most recent call last):\n",
      "  File \"/opt/conda/lib/python3.7/site-packages/optuna/_optimize.py\", line 216, in _run_trial\n",
      "    value_or_values = func(trial)\n",
      "  File \"<ipython-input-33-0719c8854fc4>\", line 2, in objective\n",
      "    data,target = X,y\n",
      "NameError: name 'X' is not defined\u001b[0m\n"
     ]
    },
    {
     "ename": "NameError",
     "evalue": "name 'X' is not defined",
     "output_type": "error",
     "traceback": [
      "\u001b[0;31m---------------------------------------------------------------------------\u001b[0m",
      "\u001b[0;31mNameError\u001b[0m                                 Traceback (most recent call last)",
      "\u001b[0;32m<ipython-input-34-70f889a9b2b0>\u001b[0m in \u001b[0;36m<module>\u001b[0;34m\u001b[0m\n\u001b[1;32m      1\u001b[0m \u001b[0mstudy\u001b[0m \u001b[0;34m=\u001b[0m \u001b[0moptuna\u001b[0m\u001b[0;34m.\u001b[0m\u001b[0mcreate_study\u001b[0m\u001b[0;34m(\u001b[0m\u001b[0mdirection\u001b[0m\u001b[0;34m=\u001b[0m\u001b[0;34m\"maximize\"\u001b[0m\u001b[0;34m)\u001b[0m\u001b[0;34m\u001b[0m\u001b[0;34m\u001b[0m\u001b[0m\n\u001b[0;32m----> 2\u001b[0;31m \u001b[0mstudy\u001b[0m\u001b[0;34m.\u001b[0m\u001b[0moptimize\u001b[0m\u001b[0;34m(\u001b[0m\u001b[0mobjective\u001b[0m\u001b[0;34m,\u001b[0m \u001b[0mn_trials\u001b[0m\u001b[0;34m=\u001b[0m\u001b[0;36m10\u001b[0m\u001b[0;34m)\u001b[0m\u001b[0;34m\u001b[0m\u001b[0;34m\u001b[0m\u001b[0m\n\u001b[0m\u001b[1;32m      3\u001b[0m \u001b[0mprint\u001b[0m\u001b[0;34m(\u001b[0m\u001b[0;34m\"Number of finished trials: {}\"\u001b[0m\u001b[0;34m.\u001b[0m\u001b[0mformat\u001b[0m\u001b[0;34m(\u001b[0m\u001b[0mlen\u001b[0m\u001b[0;34m(\u001b[0m\u001b[0mstudy\u001b[0m\u001b[0;34m.\u001b[0m\u001b[0mtrials\u001b[0m\u001b[0;34m)\u001b[0m\u001b[0;34m)\u001b[0m\u001b[0;34m)\u001b[0m\u001b[0;34m\u001b[0m\u001b[0;34m\u001b[0m\u001b[0m\n\u001b[1;32m      4\u001b[0m \u001b[0;34m\u001b[0m\u001b[0m\n\u001b[1;32m      5\u001b[0m \u001b[0mprint\u001b[0m\u001b[0;34m(\u001b[0m\u001b[0;34m\"Best trial:\"\u001b[0m\u001b[0;34m)\u001b[0m\u001b[0;34m\u001b[0m\u001b[0;34m\u001b[0m\u001b[0m\n",
      "\u001b[0;32m/opt/conda/lib/python3.7/site-packages/optuna/study.py\u001b[0m in \u001b[0;36moptimize\u001b[0;34m(self, func, n_trials, timeout, n_jobs, catch, callbacks, gc_after_trial, show_progress_bar)\u001b[0m\n\u001b[1;32m    408\u001b[0m             \u001b[0mcallbacks\u001b[0m\u001b[0;34m=\u001b[0m\u001b[0mcallbacks\u001b[0m\u001b[0;34m,\u001b[0m\u001b[0;34m\u001b[0m\u001b[0;34m\u001b[0m\u001b[0m\n\u001b[1;32m    409\u001b[0m             \u001b[0mgc_after_trial\u001b[0m\u001b[0;34m=\u001b[0m\u001b[0mgc_after_trial\u001b[0m\u001b[0;34m,\u001b[0m\u001b[0;34m\u001b[0m\u001b[0;34m\u001b[0m\u001b[0m\n\u001b[0;32m--> 410\u001b[0;31m             \u001b[0mshow_progress_bar\u001b[0m\u001b[0;34m=\u001b[0m\u001b[0mshow_progress_bar\u001b[0m\u001b[0;34m,\u001b[0m\u001b[0;34m\u001b[0m\u001b[0;34m\u001b[0m\u001b[0m\n\u001b[0m\u001b[1;32m    411\u001b[0m         )\n\u001b[1;32m    412\u001b[0m \u001b[0;34m\u001b[0m\u001b[0m\n",
      "\u001b[0;32m/opt/conda/lib/python3.7/site-packages/optuna/_optimize.py\u001b[0m in \u001b[0;36m_optimize\u001b[0;34m(study, func, n_trials, timeout, n_jobs, catch, callbacks, gc_after_trial, show_progress_bar)\u001b[0m\n\u001b[1;32m     73\u001b[0m                 \u001b[0mreseed_sampler_rng\u001b[0m\u001b[0;34m=\u001b[0m\u001b[0;32mFalse\u001b[0m\u001b[0;34m,\u001b[0m\u001b[0;34m\u001b[0m\u001b[0;34m\u001b[0m\u001b[0m\n\u001b[1;32m     74\u001b[0m                 \u001b[0mtime_start\u001b[0m\u001b[0;34m=\u001b[0m\u001b[0;32mNone\u001b[0m\u001b[0;34m,\u001b[0m\u001b[0;34m\u001b[0m\u001b[0;34m\u001b[0m\u001b[0m\n\u001b[0;32m---> 75\u001b[0;31m                 \u001b[0mprogress_bar\u001b[0m\u001b[0;34m=\u001b[0m\u001b[0mprogress_bar\u001b[0m\u001b[0;34m,\u001b[0m\u001b[0;34m\u001b[0m\u001b[0;34m\u001b[0m\u001b[0m\n\u001b[0m\u001b[1;32m     76\u001b[0m             )\n\u001b[1;32m     77\u001b[0m         \u001b[0;32melse\u001b[0m\u001b[0;34m:\u001b[0m\u001b[0;34m\u001b[0m\u001b[0;34m\u001b[0m\u001b[0m\n",
      "\u001b[0;32m/opt/conda/lib/python3.7/site-packages/optuna/_optimize.py\u001b[0m in \u001b[0;36m_optimize_sequential\u001b[0;34m(study, func, n_trials, timeout, catch, callbacks, gc_after_trial, reseed_sampler_rng, time_start, progress_bar)\u001b[0m\n\u001b[1;32m    160\u001b[0m \u001b[0;34m\u001b[0m\u001b[0m\n\u001b[1;32m    161\u001b[0m         \u001b[0;32mtry\u001b[0m\u001b[0;34m:\u001b[0m\u001b[0;34m\u001b[0m\u001b[0;34m\u001b[0m\u001b[0m\n\u001b[0;32m--> 162\u001b[0;31m             \u001b[0mtrial\u001b[0m \u001b[0;34m=\u001b[0m \u001b[0m_run_trial\u001b[0m\u001b[0;34m(\u001b[0m\u001b[0mstudy\u001b[0m\u001b[0;34m,\u001b[0m \u001b[0mfunc\u001b[0m\u001b[0;34m,\u001b[0m \u001b[0mcatch\u001b[0m\u001b[0;34m)\u001b[0m\u001b[0;34m\u001b[0m\u001b[0;34m\u001b[0m\u001b[0m\n\u001b[0m\u001b[1;32m    163\u001b[0m         \u001b[0;32mexcept\u001b[0m \u001b[0mException\u001b[0m\u001b[0;34m:\u001b[0m\u001b[0;34m\u001b[0m\u001b[0;34m\u001b[0m\u001b[0m\n\u001b[1;32m    164\u001b[0m             \u001b[0;32mraise\u001b[0m\u001b[0;34m\u001b[0m\u001b[0;34m\u001b[0m\u001b[0m\n",
      "\u001b[0;32m/opt/conda/lib/python3.7/site-packages/optuna/_optimize.py\u001b[0m in \u001b[0;36m_run_trial\u001b[0;34m(study, func, catch)\u001b[0m\n\u001b[1;32m    265\u001b[0m \u001b[0;34m\u001b[0m\u001b[0m\n\u001b[1;32m    266\u001b[0m     \u001b[0;32mif\u001b[0m \u001b[0mstate\u001b[0m \u001b[0;34m==\u001b[0m \u001b[0mTrialState\u001b[0m\u001b[0;34m.\u001b[0m\u001b[0mFAIL\u001b[0m \u001b[0;32mand\u001b[0m \u001b[0mfunc_err\u001b[0m \u001b[0;32mis\u001b[0m \u001b[0;32mnot\u001b[0m \u001b[0;32mNone\u001b[0m \u001b[0;32mand\u001b[0m \u001b[0;32mnot\u001b[0m \u001b[0misinstance\u001b[0m\u001b[0;34m(\u001b[0m\u001b[0mfunc_err\u001b[0m\u001b[0;34m,\u001b[0m \u001b[0mcatch\u001b[0m\u001b[0;34m)\u001b[0m\u001b[0;34m:\u001b[0m\u001b[0;34m\u001b[0m\u001b[0;34m\u001b[0m\u001b[0m\n\u001b[0;32m--> 267\u001b[0;31m         \u001b[0;32mraise\u001b[0m \u001b[0mfunc_err\u001b[0m\u001b[0;34m\u001b[0m\u001b[0;34m\u001b[0m\u001b[0m\n\u001b[0m\u001b[1;32m    268\u001b[0m     \u001b[0;32mreturn\u001b[0m \u001b[0mtrial\u001b[0m\u001b[0;34m\u001b[0m\u001b[0;34m\u001b[0m\u001b[0m\n\u001b[1;32m    269\u001b[0m \u001b[0;34m\u001b[0m\u001b[0m\n",
      "\u001b[0;32m/opt/conda/lib/python3.7/site-packages/optuna/_optimize.py\u001b[0m in \u001b[0;36m_run_trial\u001b[0;34m(study, func, catch)\u001b[0m\n\u001b[1;32m    214\u001b[0m \u001b[0;34m\u001b[0m\u001b[0m\n\u001b[1;32m    215\u001b[0m     \u001b[0;32mtry\u001b[0m\u001b[0;34m:\u001b[0m\u001b[0;34m\u001b[0m\u001b[0;34m\u001b[0m\u001b[0m\n\u001b[0;32m--> 216\u001b[0;31m         \u001b[0mvalue_or_values\u001b[0m \u001b[0;34m=\u001b[0m \u001b[0mfunc\u001b[0m\u001b[0;34m(\u001b[0m\u001b[0mtrial\u001b[0m\u001b[0;34m)\u001b[0m\u001b[0;34m\u001b[0m\u001b[0;34m\u001b[0m\u001b[0m\n\u001b[0m\u001b[1;32m    217\u001b[0m     \u001b[0;32mexcept\u001b[0m \u001b[0mexceptions\u001b[0m\u001b[0;34m.\u001b[0m\u001b[0mTrialPruned\u001b[0m \u001b[0;32mas\u001b[0m \u001b[0me\u001b[0m\u001b[0;34m:\u001b[0m\u001b[0;34m\u001b[0m\u001b[0;34m\u001b[0m\u001b[0m\n\u001b[1;32m    218\u001b[0m         \u001b[0;31m# TODO(mamu): Handle multi-objective cases.\u001b[0m\u001b[0;34m\u001b[0m\u001b[0;34m\u001b[0m\u001b[0;34m\u001b[0m\u001b[0m\n",
      "\u001b[0;32m<ipython-input-33-0719c8854fc4>\u001b[0m in \u001b[0;36mobjective\u001b[0;34m(trial)\u001b[0m\n\u001b[1;32m      1\u001b[0m \u001b[0;32mdef\u001b[0m \u001b[0mobjective\u001b[0m\u001b[0;34m(\u001b[0m\u001b[0mtrial\u001b[0m\u001b[0;34m)\u001b[0m\u001b[0;34m:\u001b[0m\u001b[0;34m\u001b[0m\u001b[0;34m\u001b[0m\u001b[0m\n\u001b[0;32m----> 2\u001b[0;31m     \u001b[0mdata\u001b[0m\u001b[0;34m,\u001b[0m\u001b[0mtarget\u001b[0m \u001b[0;34m=\u001b[0m \u001b[0mX\u001b[0m\u001b[0;34m,\u001b[0m\u001b[0my\u001b[0m\u001b[0;34m\u001b[0m\u001b[0;34m\u001b[0m\u001b[0m\n\u001b[0m\u001b[1;32m      3\u001b[0m     \u001b[0mtrain_x\u001b[0m\u001b[0;34m,\u001b[0m \u001b[0mvalid_x\u001b[0m\u001b[0;34m,\u001b[0m \u001b[0mtrain_y\u001b[0m\u001b[0;34m,\u001b[0m \u001b[0mvalid_y\u001b[0m \u001b[0;34m=\u001b[0m \u001b[0mtrain_test_split\u001b[0m\u001b[0;34m(\u001b[0m\u001b[0mdata\u001b[0m\u001b[0;34m,\u001b[0m \u001b[0mtarget\u001b[0m\u001b[0;34m,\u001b[0m \u001b[0mtest_size\u001b[0m\u001b[0;34m=\u001b[0m\u001b[0;36m0.25\u001b[0m\u001b[0;34m)\u001b[0m\u001b[0;34m\u001b[0m\u001b[0;34m\u001b[0m\u001b[0m\n\u001b[1;32m      4\u001b[0m     \u001b[0mdtrain\u001b[0m \u001b[0;34m=\u001b[0m \u001b[0mlgb\u001b[0m\u001b[0;34m.\u001b[0m\u001b[0mDataset\u001b[0m\u001b[0;34m(\u001b[0m\u001b[0mtrain_x\u001b[0m\u001b[0;34m,\u001b[0m \u001b[0mlabel\u001b[0m\u001b[0;34m=\u001b[0m\u001b[0mtrain_y\u001b[0m\u001b[0;34m)\u001b[0m\u001b[0;34m\u001b[0m\u001b[0;34m\u001b[0m\u001b[0m\n\u001b[1;32m      5\u001b[0m     param = {\n",
      "\u001b[0;31mNameError\u001b[0m: name 'X' is not defined"
     ]
    }
   ],
   "source": [
    "study = optuna.create_study(direction=\"maximize\")\n",
    "study.optimize(objective, n_trials=10)\n",
    "print(\"Number of finished trials: {}\".format(len(study.trials)))\n",
    "\n",
    "print(\"Best trial:\")\n",
    "trial = study.best_trial\n",
    "\n",
    "print(\"  Value: {}\".format(trial.value))\n",
    "\n",
    "print(\"  Params: \")\n",
    "for key, value in trial.params.items():\n",
    "    print(\"    {}: {}\".format(key, value))"
   ]
  },
  {
   "cell_type": "code",
   "execution_count": null,
   "id": "ba7c5e3a",
   "metadata": {
    "execution": {
     "iopub.status.busy": "2021-08-07T15:50:47.833003Z",
     "iopub.status.idle": "2021-08-07T15:50:47.833420Z"
    },
    "papermill": {
     "duration": null,
     "end_time": null,
     "exception": null,
     "start_time": null,
     "status": "pending"
    },
    "tags": []
   },
   "outputs": [],
   "source": [
    "# one of the best params the optuna computed is 198\n",
    "train_x, valid_x, train_y, valid_y = train_test_split(X_df.values, y_df.values,\n",
    "                                                      test_size=0.25,random_state=100)\n",
    "lgb_clf = lgb.LGBMRegressor(n_estimators=198)\n",
    "lgb_clf.fit(train_x,train_y)\n",
    "print(lgb_clf.score(valid_x,valid_y))\n"
   ]
  },
  {
   "attachments": {
    "9b9bbae0-1229-4bdf-8f3f-5f29c525172b.png": {
     "image/png": "[encoded data removed]"
    }
   },
   "cell_type": "markdown",
   "id": "b057f1c4",
   "metadata": {
    "papermill": {
     "duration": null,
     "end_time": null,
     "exception": null,
     "start_time": null,
     "status": "pending"
    },
    "tags": []
   },
   "source": [
    "The output figure is similar to this... if the notebook is run locally.\n",
    "![2021-08-06_094252.png](attachment:9b9bbae0-1229-4bdf-8f3f-5f29c525172b.png)"
   ]
  },
  {
   "cell_type": "code",
   "execution_count": null,
   "id": "a0ffb382",
   "metadata": {
    "execution": {
     "iopub.status.busy": "2021-08-07T15:50:47.834894Z",
     "iopub.status.idle": "2021-08-07T15:50:47.835570Z"
    },
    "papermill": {
     "duration": null,
     "end_time": null,
     "exception": null,
     "start_time": null,
     "status": "pending"
    },
    "tags": []
   },
   "outputs": [],
   "source": [
    "#inspiration by https://www.kaggle.com/aleksandradeis/airbnb-seattle-reservation-prices-analysis#Machine-Learning\n",
    "headers = [\"name\", \"score\"]\n",
    "values = sorted(zip(X_df, lgb_clf.feature_importances_), key=lambda x: x[1] * -1)\n",
    "forest_feature_importances = pd.DataFrame(values, columns = headers)\n",
    "forest_feature_importances = forest_feature_importances.sort_values(by = ['score'], ascending = False)\n",
    "\n",
    "features = forest_feature_importances['name'][:20]\n",
    "y_pos = np.arange(len(features))\n",
    "scores = forest_feature_importances['score'][:20]\n",
    "\n",
    "#plot feature importances\n",
    "plt.figure(figsize=(10,5))\n",
    "plt.bar(y_pos, scores, align='center', alpha=0.5)\n",
    "plt.xticks(y_pos, features, rotation='vertical')\n",
    "plt.ylabel('Score')\n",
    "plt.xlabel('Features')\n",
    "plt.title('Feature importances (LightGBM)') \n",
    "plt.show()"
   ]
  },
  {
   "attachments": {
    "97f00b84-bb52-46a9-85e4-47adf59c7e6b.png": {
     "image/png": "[encoded data removed]"
    }
   },
   "cell_type": "markdown",
   "id": "22c6d31b",
   "metadata": {
    "papermill": {
     "duration": null,
     "end_time": null,
     "exception": null,
     "start_time": null,
     "status": "pending"
    },
    "tags": []
   },
   "source": [
    "The output figure is similar to this... if the notebook is run locally.\n",
    "![importance_6.png](attachment:97f00b84-bb52-46a9-85e4-47adf59c7e6b.png)"
   ]
  },
  {
   "cell_type": "markdown",
   "id": "04b04382",
   "metadata": {
    "papermill": {
     "duration": null,
     "end_time": null,
     "exception": null,
     "start_time": null,
     "status": "pending"
    },
    "tags": []
   },
   "source": [
    "## Conclusion\n",
    "\n",
    "In this analysis we tried to understand what influences used car 's selling price. We delete `mmr` from explained features, since it is a evaluated feature by business company. Alternatively, we tried to use basic info of a car to do a predict. The model has a similar `r2_score` with `mmr` and suggested `year`,`odometer`,`condition`  are the 3 features contributes most to the model.\n",
    "\n",
    "Hope the predication is helpful to people who want to sell their cars!"
   ]
  },
  {
   "cell_type": "code",
   "execution_count": null,
   "id": "a66576ae",
   "metadata": {
    "papermill": {
     "duration": null,
     "end_time": null,
     "exception": null,
     "start_time": null,
     "status": "pending"
    },
    "tags": []
   },
   "outputs": [],
   "source": []
  }
 ],
 "metadata": {
  "kernelspec": {
   "display_name": "Python 3",
   "language": "python",
   "name": "python3"
  },
  "language_info": {
   "codemirror_mode": {
    "name": "ipython",
    "version": 3
   },
   "file_extension": ".py",
   "mimetype": "text/x-python",
   "name": "python",
   "nbconvert_exporter": "python",
   "pygments_lexer": "ipython3",
   "version": "3.7.10"
  },
  "papermill": {
   "default_parameters": {},
   "duration": 46.826792,
   "end_time": "2021-08-07T15:52:56.515688",
   "environment_variables": {},
   "exception": true,
   "input_path": "__notebook__.ipynb",
   "output_path": "__notebook__.ipynb",
   "parameters": {},
   "start_time": "2021-08-07T15:52:09.688896",
   "version": "2.3.3"
  }
 },
 "nbformat": 4,
 "nbformat_minor": 5
}
