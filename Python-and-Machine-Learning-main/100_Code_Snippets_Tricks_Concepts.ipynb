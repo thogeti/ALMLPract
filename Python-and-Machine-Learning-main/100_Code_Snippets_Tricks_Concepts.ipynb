{
  "nbformat": 4,
  "nbformat_minor": 0,
  "metadata": {
    "colab": {
      "name": "100 Code Snippets Tricks Concepts .ipynb",
      "provenance": [],
      "authorship_tag": "ABX9TyMILg6bmQRnhziKwlUJAWdZ",
      "include_colab_link": true
    },
    "kernelspec": {
      "name": "python3",
      "display_name": "Python 3"
    },
    "language_info": {
      "name": "python"
    }
  },
  "cells": [
    {
      "cell_type": "markdown",
      "metadata": {
        "id": "view-in-github",
        "colab_type": "text"
      },
      "source": [
        "<a href=\"https://colab.research.google.com/github/thogeti/ALMLPract/blob/master/Python-and-Machine-Learning-main/100_Code_Snippets_Tricks_Concepts.ipynb\" target=\"_parent\"><img src=\"https://colab.research.google.com/assets/colab-badge.svg\" alt=\"Open In Colab\"/></a>"
      ]
    },
    {
      "cell_type": "code",
      "execution_count": null,
      "metadata": {
        "id": "UItbJM4jT6ap"
      },
      "outputs": [],
      "source": [
        ""
      ]
    },
    {
      "cell_type": "markdown",
      "source": [
        "**    1. Convert two lists into a Dictionary:**"
      ],
      "metadata": {
        "id": "K0p2VtHfUB41"
      }
    },
    {
      "cell_type": "code",
      "source": [
        "#1. Convert two lists into a Dictionary:\n",
        "#Convert 2 List into a dictionary\n",
        "a = ['GSW', 'LAKERS', 'CLIPPERS']\n",
        "b = [1, 2, 3]\n",
        "dict(zip(a, b))"
      ],
      "metadata": {
        "colab": {
          "base_uri": "https://localhost:8080/"
        },
        "id": "Q2bqxtLpUA8n",
        "outputId": "767dee9b-04c2-41cb-b815-dde4807ec332"
      },
      "execution_count": 1,
      "outputs": [
        {
          "output_type": "execute_result",
          "data": {
            "text/plain": [
              "{'CLIPPERS': 3, 'GSW': 1, 'LAKERS': 2}"
            ]
          },
          "metadata": {},
          "execution_count": 1
        }
      ]
    },
    {
      "cell_type": "code",
      "source": [
        "#2. Use ZIP and ZIP(*)\n",
        "#Use ZIP and ZIP(*list)\n",
        "x = ['car','truck','bus']\n",
        "y = [10, 20, 30]\n",
        "zipped = list(zip(x, y))\n",
        "zippeddict=dict(zip(x, y))\n",
        "print(zipped)\n",
        "print(zippeddict)\n",
        "\n",
        "x,y = zip(*zipped)\n",
        "print(x)\n",
        "print(y)"
      ],
      "metadata": {
        "colab": {
          "base_uri": "https://localhost:8080/"
        },
        "id": "GbSM586_UA_p",
        "outputId": "3f69423f-51c0-4d11-dfbc-dd5d60d3082f"
      },
      "execution_count": 6,
      "outputs": [
        {
          "output_type": "stream",
          "name": "stdout",
          "text": [
            "[('car', 10), ('truck', 20), ('bus', 30)]\n",
            "{'car': 10, 'truck': 20, 'bus': 30}\n",
            "('car', 'truck', 'bus')\n",
            "(10, 20, 30)\n"
          ]
        }
      ]
    },
    {
      "cell_type": "code",
      "source": [
        ""
      ],
      "metadata": {
        "id": "mTZcm_GEUBCR"
      },
      "execution_count": null,
      "outputs": []
    },
    {
      "cell_type": "code",
      "source": [
        ""
      ],
      "metadata": {
        "id": "D1HMki_vUBE_"
      },
      "execution_count": null,
      "outputs": []
    },
    {
      "cell_type": "code",
      "source": [
        ""
      ],
      "metadata": {
        "id": "y8JydtVPUBHk"
      },
      "execution_count": null,
      "outputs": []
    },
    {
      "cell_type": "code",
      "source": [
        ""
      ],
      "metadata": {
        "id": "S0JEy3CuUBKO"
      },
      "execution_count": null,
      "outputs": []
    },
    {
      "cell_type": "code",
      "source": [
        ""
      ],
      "metadata": {
        "id": "KMMiigAHUBM-"
      },
      "execution_count": null,
      "outputs": []
    },
    {
      "cell_type": "code",
      "source": [
        ""
      ],
      "metadata": {
        "id": "WDReFKtnUBPt"
      },
      "execution_count": null,
      "outputs": []
    }
  ]
}